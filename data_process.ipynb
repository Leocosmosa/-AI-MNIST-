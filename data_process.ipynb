{
 "cells": [
  {
   "cell_type": "markdown",
   "metadata": {},
   "source": [
    "<h2><font face=\"SimSun\" color=\"black\">2.1 数据集的准备与介绍</font></h2>"
   ]
  },
  {
   "cell_type": "markdown",
   "metadata": {},
   "source": [
    "下载MNIST数据集至本地后，通过上传文件导入至work文件夹下(data文件加下数据在notebook重新加载后无法保存)，使用gzip命令进行解压"
   ]
  },
  {
   "cell_type": "code",
   "execution_count": 1,
   "metadata": {},
   "outputs": [],
   "source": [
    "!gzip -dfq work/t10k-labels-idx1-ubyte.gz\n",
    "!gzip -dfq work/train-labels-idx1-ubyte.gz\n",
    "!gzip -dfq work/t10k-images-idx3-ubyte.gz\n",
    "!gzip -dfq work/train-images-idx3-ubyte.gz"
   ]
  },
  {
   "cell_type": "code",
   "execution_count": 2,
   "metadata": {},
   "outputs": [
    {
     "name": "stdout",
     "output_type": "stream",
     "text": [
      "work\n",
      "\n",
      "0 directories\n",
      "t10k-images-idx3-ubyte\ttrain-images-idx3-ubyte\n",
      "t10k-labels-idx1-ubyte\ttrain-labels-idx1-ubyte\n"
     ]
    }
   ],
   "source": [
    "!tree work -d\n",
    "!ls work"
   ]
  },
  {
   "cell_type": "markdown",
   "metadata": {},
   "source": [
    "MNIST手写数字数据库，包含60000个样本的训练集和10000个样本的测试集\n",
    "\n",
    "训练集图片文件为train-images-idx3-ubyte，标签文件为train-labels-idx1-ubyte，共包含60,000个样本，每个样本对应一个28 * 28像素的[0, 255]灰度图片，以及一个[0, 9]的标签\n",
    "\n",
    "测试集图片文件为t10k-images-idx3-ubyte，标签文件为t10k-labels-idx1-ubyte，共包含10,000个样本，每个样本对应一个28 * 28像素的[0, 255]灰度图片，以及一个[0, 9]的标签\n",
    "\n",
    "注1：\n",
    "0表示白色，255表示黑色\n",
    "\n",
    "注2：\n",
    "文件格式为idx，前4个字节包含了文本信息——前2个字节置0，第3个字节为数据类型编码（0x08表示无符号字节[0, 255]），第4个字节为数据维度k（0x03表示3维）\n",
    "    \n",
    "之后每4个字节（int32）表示一个维度特征，共k个特征，即k个int32数据表示dim1, dim2...dimk\n",
    "    \n",
    "之后为数据主要内容，总数据量大小为$\\prod_{i=1}^k dim_i$\n"
   ]
  },
  {
   "cell_type": "markdown",
   "metadata": {},
   "source": [
    "<h2><font face=\"SimSun\" color=\"black\">2.2 数据集类的定义</font></h2>"
   ]
  },
  {
   "cell_type": "markdown",
   "metadata": {},
   "source": [
    "自定义MyMNISTDataset类继承paddle.io.Dataset，并实现\\_\\_init\\_\\_, \\_\\_getitem\\_\\_，\\_\\_len\\_\\_方法\n",
    "\n",
    "decode_idx3_ubyte和decode_idx1_ubyte方法分别完成图片和标签文件的解码，并返回numpy格式的图片数据和标签数据"
   ]
  },
  {
   "cell_type": "code",
   "execution_count": 3,
   "metadata": {},
   "outputs": [],
   "source": [
    "import paddle\n",
    "import numpy as np\n",
    "import struct\n",
    "\n",
    "class MyMNISTDataset(paddle.io.Dataset):\n",
    "    def __init__(self, image_file, label_file):\n",
    "        super(MyMNISTDataset, self).__init__()\n",
    "        self.images = self.decode_idx3_ubyte(image_file)\n",
    "        self.labels = self.decode_idx1_ubyte(label_file)\n",
    "        self.length = len(self.labels)\n",
    "\n",
    "    def __getitem__(self, index):\n",
    "        return self.images[index], self.labels[index]\n",
    "\n",
    "    def __len__(self):\n",
    "        return self.length\n",
    "\n",
    "    def decode_idx3_ubyte(self, idx3_ubyte_file):\n",
    "        bin_data = open(idx3_ubyte_file, 'rb').read()\n",
    "        offset = 0\n",
    "        fmt_header = '>iiii'\n",
    "        magic_number, num_images, num_rows, num_cols = struct.unpack_from(fmt_header, bin_data, offset)\n",
    "        image_size = num_rows * num_cols\n",
    "        offset += struct.calcsize(fmt_header)\n",
    "        fmt_image = '>' + str(image_size) + 'B'\n",
    "        images = np.empty((num_images, num_rows, num_cols), dtype=np.uint8)\n",
    "        for i in range(num_images):\n",
    "            images[i] = np.array(struct.unpack_from(fmt_image, bin_data, offset)).reshape((num_rows, num_cols))\n",
    "            offset += struct.calcsize(fmt_image)\n",
    "        return images\n",
    "\n",
    "    def decode_idx1_ubyte(self,idx1_ubyte_file):\n",
    "        bin_data = open(idx1_ubyte_file, 'rb').read()\n",
    "        offset = 0\n",
    "        fmt_header = '>ii'\n",
    "        magic_number, num_labels = struct.unpack_from(fmt_header, bin_data, offset)\n",
    "        offset += struct.calcsize(fmt_header)\n",
    "        fmt_label = '>B'\n",
    "        labels = np.empty(num_labels, dtype=np.uint8)\n",
    "        for i in range(num_labels):\n",
    "            labels[i] = struct.unpack_from(fmt_label, bin_data, offset)[0]\n",
    "            offset += struct.calcsize(fmt_label)\n",
    "        labels = np.expand_dims(labels, axis=-1)\n",
    "        return labels"
   ]
  },
  {
   "cell_type": "markdown",
   "metadata": {},
   "source": [
    "<h2><font face=\"SimSun\" color=\"black\">2.3 数据集类的测试</font></h2>"
   ]
  },
  {
   "cell_type": "markdown",
   "metadata": {},
   "source": [
    "通过MyMNISTDataset类构造训练集和测试集，分别获得样本数据和标签数据，测试get、len方法，并用dataloader封装后测试batch效果"
   ]
  },
  {
   "cell_type": "code",
   "execution_count": 4,
   "metadata": {},
   "outputs": [
    {
     "name": "stdout",
     "output_type": "stream",
     "text": [
      "训练集样本大小： 60000\n",
      "训练集图片大小： (60000, 28, 28)\n",
      "训练集标签大小： (60000, 1)\n",
      "训练集第1个样本： \n",
      "标签： [5] \n",
      "图片： [[  0   0   0   0   0   0   0   0   0   0   0   0   0   0   0   0   0   0\n",
      "    0   0   0   0   0   0   0   0   0   0]\n",
      " [  0   0   0   0   0   0   0   0   0   0   0   0   0   0   0   0   0   0\n",
      "    0   0   0   0   0   0   0   0   0   0]\n",
      " [  0   0   0   0   0   0   0   0   0   0   0   0   0   0   0   0   0   0\n",
      "    0   0   0   0   0   0   0   0   0   0]\n",
      " [  0   0   0   0   0   0   0   0   0   0   0   0   0   0   0   0   0   0\n",
      "    0   0   0   0   0   0   0   0   0   0]\n",
      " [  0   0   0   0   0   0   0   0   0   0   0   0   0   0   0   0   0   0\n",
      "    0   0   0   0   0   0   0   0   0   0]\n",
      " [  0   0   0   0   0   0   0   0   0   0   0   0   3  18  18  18 126 136\n",
      "  175  26 166 255 247 127   0   0   0   0]\n",
      " [  0   0   0   0   0   0   0   0  30  36  94 154 170 253 253 253 253 253\n",
      "  225 172 253 242 195  64   0   0   0   0]\n",
      " [  0   0   0   0   0   0   0  49 238 253 253 253 253 253 253 253 253 251\n",
      "   93  82  82  56  39   0   0   0   0   0]\n",
      " [  0   0   0   0   0   0   0  18 219 253 253 253 253 253 198 182 247 241\n",
      "    0   0   0   0   0   0   0   0   0   0]\n",
      " [  0   0   0   0   0   0   0   0  80 156 107 253 253 205  11   0  43 154\n",
      "    0   0   0   0   0   0   0   0   0   0]\n",
      " [  0   0   0   0   0   0   0   0   0  14   1 154 253  90   0   0   0   0\n",
      "    0   0   0   0   0   0   0   0   0   0]\n",
      " [  0   0   0   0   0   0   0   0   0   0   0 139 253 190   2   0   0   0\n",
      "    0   0   0   0   0   0   0   0   0   0]\n",
      " [  0   0   0   0   0   0   0   0   0   0   0  11 190 253  70   0   0   0\n",
      "    0   0   0   0   0   0   0   0   0   0]\n",
      " [  0   0   0   0   0   0   0   0   0   0   0   0  35 241 225 160 108   1\n",
      "    0   0   0   0   0   0   0   0   0   0]\n",
      " [  0   0   0   0   0   0   0   0   0   0   0   0   0  81 240 253 253 119\n",
      "   25   0   0   0   0   0   0   0   0   0]\n",
      " [  0   0   0   0   0   0   0   0   0   0   0   0   0   0  45 186 253 253\n",
      "  150  27   0   0   0   0   0   0   0   0]\n",
      " [  0   0   0   0   0   0   0   0   0   0   0   0   0   0   0  16  93 252\n",
      "  253 187   0   0   0   0   0   0   0   0]\n",
      " [  0   0   0   0   0   0   0   0   0   0   0   0   0   0   0   0   0 249\n",
      "  253 249  64   0   0   0   0   0   0   0]\n",
      " [  0   0   0   0   0   0   0   0   0   0   0   0   0   0  46 130 183 253\n",
      "  253 207   2   0   0   0   0   0   0   0]\n",
      " [  0   0   0   0   0   0   0   0   0   0   0   0  39 148 229 253 253 253\n",
      "  250 182   0   0   0   0   0   0   0   0]\n",
      " [  0   0   0   0   0   0   0   0   0   0  24 114 221 253 253 253 253 201\n",
      "   78   0   0   0   0   0   0   0   0   0]\n",
      " [  0   0   0   0   0   0   0   0  23  66 213 253 253 253 253 198  81   2\n",
      "    0   0   0   0   0   0   0   0   0   0]\n",
      " [  0   0   0   0   0   0  18 171 219 253 253 253 253 195  80   9   0   0\n",
      "    0   0   0   0   0   0   0   0   0   0]\n",
      " [  0   0   0   0  55 172 226 253 253 253 253 244 133  11   0   0   0   0\n",
      "    0   0   0   0   0   0   0   0   0   0]\n",
      " [  0   0   0   0 136 253 253 253 212 135 132  16   0   0   0   0   0   0\n",
      "    0   0   0   0   0   0   0   0   0   0]\n",
      " [  0   0   0   0   0   0   0   0   0   0   0   0   0   0   0   0   0   0\n",
      "    0   0   0   0   0   0   0   0   0   0]\n",
      " [  0   0   0   0   0   0   0   0   0   0   0   0   0   0   0   0   0   0\n",
      "    0   0   0   0   0   0   0   0   0   0]\n",
      " [  0   0   0   0   0   0   0   0   0   0   0   0   0   0   0   0   0   0\n",
      "    0   0   0   0   0   0   0   0   0   0]]\n",
      "测试集样本大小： 10000\n",
      "测试集图片大小： (10000, 28, 28)\n",
      "测试集标签大小： (10000, 1)\n",
      "测试集第1个样本： \n",
      "标签： [7] \n",
      "图片： [[  0   0   0   0   0   0   0   0   0   0   0   0   0   0   0   0   0   0\n",
      "    0   0   0   0   0   0   0   0   0   0]\n",
      " [  0   0   0   0   0   0   0   0   0   0   0   0   0   0   0   0   0   0\n",
      "    0   0   0   0   0   0   0   0   0   0]\n",
      " [  0   0   0   0   0   0   0   0   0   0   0   0   0   0   0   0   0   0\n",
      "    0   0   0   0   0   0   0   0   0   0]\n",
      " [  0   0   0   0   0   0   0   0   0   0   0   0   0   0   0   0   0   0\n",
      "    0   0   0   0   0   0   0   0   0   0]\n",
      " [  0   0   0   0   0   0   0   0   0   0   0   0   0   0   0   0   0   0\n",
      "    0   0   0   0   0   0   0   0   0   0]\n",
      " [  0   0   0   0   0   0   0   0   0   0   0   0   0   0   0   0   0   0\n",
      "    0   0   0   0   0   0   0   0   0   0]\n",
      " [  0   0   0   0   0   0   0   0   0   0   0   0   0   0   0   0   0   0\n",
      "    0   0   0   0   0   0   0   0   0   0]\n",
      " [  0   0   0   0   0   0  84 185 159 151  60  36   0   0   0   0   0   0\n",
      "    0   0   0   0   0   0   0   0   0   0]\n",
      " [  0   0   0   0   0   0 222 254 254 254 254 241 198 198 198 198 198 198\n",
      "  198 198 170  52   0   0   0   0   0   0]\n",
      " [  0   0   0   0   0   0  67 114  72 114 163 227 254 225 254 254 254 250\n",
      "  229 254 254 140   0   0   0   0   0   0]\n",
      " [  0   0   0   0   0   0   0   0   0   0   0  17  66  14  67  67  67  59\n",
      "   21 236 254 106   0   0   0   0   0   0]\n",
      " [  0   0   0   0   0   0   0   0   0   0   0   0   0   0   0   0   0   0\n",
      "   83 253 209  18   0   0   0   0   0   0]\n",
      " [  0   0   0   0   0   0   0   0   0   0   0   0   0   0   0   0   0  22\n",
      "  233 255  83   0   0   0   0   0   0   0]\n",
      " [  0   0   0   0   0   0   0   0   0   0   0   0   0   0   0   0   0 129\n",
      "  254 238  44   0   0   0   0   0   0   0]\n",
      " [  0   0   0   0   0   0   0   0   0   0   0   0   0   0   0   0  59 249\n",
      "  254  62   0   0   0   0   0   0   0   0]\n",
      " [  0   0   0   0   0   0   0   0   0   0   0   0   0   0   0   0 133 254\n",
      "  187   5   0   0   0   0   0   0   0   0]\n",
      " [  0   0   0   0   0   0   0   0   0   0   0   0   0   0   0   9 205 248\n",
      "   58   0   0   0   0   0   0   0   0   0]\n",
      " [  0   0   0   0   0   0   0   0   0   0   0   0   0   0   0 126 254 182\n",
      "    0   0   0   0   0   0   0   0   0   0]\n",
      " [  0   0   0   0   0   0   0   0   0   0   0   0   0   0  75 251 240  57\n",
      "    0   0   0   0   0   0   0   0   0   0]\n",
      " [  0   0   0   0   0   0   0   0   0   0   0   0   0  19 221 254 166   0\n",
      "    0   0   0   0   0   0   0   0   0   0]\n",
      " [  0   0   0   0   0   0   0   0   0   0   0   0   3 203 254 219  35   0\n",
      "    0   0   0   0   0   0   0   0   0   0]\n",
      " [  0   0   0   0   0   0   0   0   0   0   0   0  38 254 254  77   0   0\n",
      "    0   0   0   0   0   0   0   0   0   0]\n",
      " [  0   0   0   0   0   0   0   0   0   0   0  31 224 254 115   1   0   0\n",
      "    0   0   0   0   0   0   0   0   0   0]\n",
      " [  0   0   0   0   0   0   0   0   0   0   0 133 254 254  52   0   0   0\n",
      "    0   0   0   0   0   0   0   0   0   0]\n",
      " [  0   0   0   0   0   0   0   0   0   0  61 242 254 254  52   0   0   0\n",
      "    0   0   0   0   0   0   0   0   0   0]\n",
      " [  0   0   0   0   0   0   0   0   0   0 121 254 254 219  40   0   0   0\n",
      "    0   0   0   0   0   0   0   0   0   0]\n",
      " [  0   0   0   0   0   0   0   0   0   0 121 254 207  18   0   0   0   0\n",
      "    0   0   0   0   0   0   0   0   0   0]\n",
      " [  0   0   0   0   0   0   0   0   0   0   0   0   0   0   0   0   0   0\n",
      "    0   0   0   0   0   0   0   0   0   0]]\n"
     ]
    }
   ],
   "source": [
    "train_dataset = MyMNISTDataset(\"work/train-images-idx3-ubyte\", \"work/train-labels-idx1-ubyte\")\n",
    "print(\"训练集样本大小：\", len(train_dataset))\n",
    "print(\"训练集图片大小：\", train_dataset.images.shape)\n",
    "print(\"训练集标签大小：\", train_dataset.labels.shape)\n",
    "print(\"训练集第1个样本：\", \"\\n标签：\", train_dataset.labels[0], \"\\n图片：\", train_dataset.images[0])\n",
    "test_dataset = MyMNISTDataset(\"work/t10k-images-idx3-ubyte\", \"work/t10k-labels-idx1-ubyte\")\n",
    "print(\"测试集样本大小：\", len(test_dataset))\n",
    "print(\"测试集图片大小：\", test_dataset.images.shape)\n",
    "print(\"测试集标签大小：\", test_dataset.labels.shape)\n",
    "print(\"测试集第1个样本：\", \"\\n标签：\", test_dataset.labels[0], \"\\n图片：\", test_dataset.images[0])"
   ]
  },
  {
   "cell_type": "code",
   "execution_count": 5,
   "metadata": {},
   "outputs": [
    {
     "name": "stdout",
     "output_type": "stream",
     "text": [
      "训练集batch数据: 0 [1024, 28, 28] [1024, 1]\n",
      "训练集batch数据: 1 [1024, 28, 28] [1024, 1]\n",
      "训练集batch数据: 2 [1024, 28, 28] [1024, 1]\n",
      "训练集batch数据: 3 [1024, 28, 28] [1024, 1]\n",
      "训练集batch数据: 4 [1024, 28, 28] [1024, 1]\n",
      "训练集batch数据: 5 [1024, 28, 28] [1024, 1]\n",
      "训练集batch数据: 6 [1024, 28, 28] [1024, 1]\n",
      "训练集batch数据: 7 [1024, 28, 28] [1024, 1]\n",
      "训练集batch数据: 8 [1024, 28, 28] [1024, 1]\n",
      "训练集batch数据: 9 [1024, 28, 28] [1024, 1]\n",
      "训练集batch数据: 10 [1024, 28, 28] [1024, 1]\n",
      "训练集batch数据: 11 [1024, 28, 28] [1024, 1]\n",
      "训练集batch数据: 12 [1024, 28, 28] [1024, 1]\n",
      "训练集batch数据: 13 [1024, 28, 28] [1024, 1]\n",
      "训练集batch数据: 14 [1024, 28, 28] [1024, 1]\n",
      "训练集batch数据: 15 [1024, 28, 28] [1024, 1]\n",
      "训练集batch数据: 16 [1024, 28, 28] [1024, 1]\n",
      "训练集batch数据: 17 [1024, 28, 28] [1024, 1]\n",
      "训练集batch数据: 18 [1024, 28, 28] [1024, 1]\n",
      "训练集batch数据: 19 [1024, 28, 28] [1024, 1]\n",
      "训练集batch数据: 20 [1024, 28, 28] [1024, 1]\n",
      "训练集batch数据: 21 [1024, 28, 28] [1024, 1]\n",
      "训练集batch数据: 22 [1024, 28, 28] [1024, 1]\n",
      "训练集batch数据: 23 [1024, 28, 28] [1024, 1]\n",
      "训练集batch数据: 24 [1024, 28, 28] [1024, 1]\n",
      "训练集batch数据: 25 [1024, 28, 28] [1024, 1]\n",
      "训练集batch数据: 26 [1024, 28, 28] [1024, 1]\n",
      "训练集batch数据: 27 [1024, 28, 28] [1024, 1]\n",
      "训练集batch数据: 28 [1024, 28, 28] [1024, 1]\n",
      "训练集batch数据: 29 [1024, 28, 28] [1024, 1]\n",
      "训练集batch数据: 30 [1024, 28, 28] [1024, 1]\n",
      "训练集batch数据: 31 [1024, 28, 28] [1024, 1]\n",
      "训练集batch数据: 32 [1024, 28, 28] [1024, 1]\n",
      "训练集batch数据: 33 [1024, 28, 28] [1024, 1]\n",
      "训练集batch数据: 34 [1024, 28, 28] [1024, 1]\n",
      "训练集batch数据: 35 [1024, 28, 28] [1024, 1]\n",
      "训练集batch数据: 36 [1024, 28, 28] [1024, 1]\n",
      "训练集batch数据: 37 [1024, 28, 28] [1024, 1]\n",
      "训练集batch数据: 38 [1024, 28, 28] [1024, 1]\n",
      "训练集batch数据: 39 [1024, 28, 28] [1024, 1]\n",
      "训练集batch数据: 40 [1024, 28, 28] [1024, 1]\n",
      "训练集batch数据: 41 [1024, 28, 28] [1024, 1]\n",
      "训练集batch数据: 42 [1024, 28, 28] [1024, 1]\n",
      "训练集batch数据: 43 [1024, 28, 28] [1024, 1]\n",
      "训练集batch数据: 44 [1024, 28, 28] [1024, 1]\n",
      "训练集batch数据: 45 [1024, 28, 28] [1024, 1]\n",
      "训练集batch数据: 46 [1024, 28, 28] [1024, 1]\n",
      "训练集batch数据: 47 [1024, 28, 28] [1024, 1]\n",
      "训练集batch数据: 48 [1024, 28, 28] [1024, 1]\n",
      "训练集batch数据: 49 [1024, 28, 28] [1024, 1]\n",
      "训练集batch数据: 50 [1024, 28, 28] [1024, 1]\n",
      "训练集batch数据: 51 [1024, 28, 28] [1024, 1]\n",
      "训练集batch数据: 52 [1024, 28, 28] [1024, 1]\n",
      "训练集batch数据: 53 [1024, 28, 28] [1024, 1]\n",
      "训练集batch数据: 54 [1024, 28, 28] [1024, 1]\n",
      "训练集batch数据: 55 [1024, 28, 28] [1024, 1]\n",
      "训练集batch数据: 56 [1024, 28, 28] [1024, 1]\n",
      "训练集batch数据: 57 [1024, 28, 28] [1024, 1]\n",
      "训练集batch数据: 58 [608, 28, 28] [608, 1]\n",
      "测试集batch数据: 0 [1024, 28, 28] [1024, 1]\n",
      "测试集batch数据: 1 [1024, 28, 28] [1024, 1]\n",
      "测试集batch数据: 2 [1024, 28, 28] [1024, 1]\n",
      "测试集batch数据: 3 [1024, 28, 28] [1024, 1]\n",
      "测试集batch数据: 4 [1024, 28, 28] [1024, 1]\n",
      "测试集batch数据: 5 [1024, 28, 28] [1024, 1]\n",
      "测试集batch数据: 6 [1024, 28, 28] [1024, 1]\n",
      "测试集batch数据: 7 [1024, 28, 28] [1024, 1]\n",
      "测试集batch数据: 8 [1024, 28, 28] [1024, 1]\n",
      "测试集batch数据: 9 [784, 28, 28] [784, 1]\n"
     ]
    }
   ],
   "source": [
    "train_dataloader = paddle.io.DataLoader(\n",
    "    train_dataset,\n",
    "    batch_size=1024,\n",
    "    shuffle=True,\n",
    "    drop_last=False)\n",
    "for step, data in enumerate(train_dataloader):\n",
    "    image, label = data\n",
    "    print(\"训练集batch数据:\", step, image.shape, label.shape)\n",
    "test_dataloader = paddle.io.DataLoader(\n",
    "    test_dataset,\n",
    "    batch_size=1024,\n",
    "    shuffle=True,\n",
    "    drop_last=False)\n",
    "for step, data in enumerate(test_dataloader):\n",
    "    image, label = data\n",
    "    print(\"测试集batch数据:\", step, image.shape, label.shape)"
   ]
  },
  {
   "cell_type": "markdown",
   "metadata": {},
   "source": [
    "<h2><font face=\"SimSun\" color=\"black\">2.4 图像/文本数据的统计分析</font></h2>"
   ]
  },
  {
   "cell_type": "markdown",
   "metadata": {},
   "source": [
    "对训练集和测试集的第1个样本进行可视化展示"
   ]
  },
  {
   "cell_type": "code",
   "execution_count": 8,
   "metadata": {},
   "outputs": [
    {
     "data": {
      "text/plain": [
       "<matplotlib.image.AxesImage at 0x7f6fb55fe150>"
      ]
     },
     "execution_count": 8,
     "metadata": {},
     "output_type": "execute_result"
    },
    {
     "data": {
      "image/png": "[encoded data removed]",
      "text/plain": [
       "<Figure size 432x288 with 2 Axes>"
      ]
     },
     "metadata": {},
     "output_type": "display_data"
    }
   ],
   "source": [
    "from matplotlib import pyplot as plt\n",
    "\n",
    "plt.subplot(1, 2, 1)\n",
    "plt.imshow(train_dataset.images[0])\n",
    "plt.subplot(1, 2, 2)\n",
    "plt.imshow(test_dataset.images[0])"
   ]
  },
  {
   "cell_type": "markdown",
   "metadata": {},
   "source": [
    "对训练集和测试集的全量样本，分别进行图片数据整体均值和方差计算"
   ]
  },
  {
   "cell_type": "code",
   "execution_count": 7,
   "metadata": {},
   "outputs": [
    {
     "name": "stdout",
     "output_type": "stream",
     "text": [
      "训练集：\n",
      "图片数量: 60000\n",
      "图片均值: [[2.29466787e-06]\n",
      " [2.59228691e-06]\n",
      " [1.62089836e-06]\n",
      " ...\n",
      " [1.84507136e-06]\n",
      " [1.70301454e-06]\n",
      " [1.74403095e-06]]\n",
      "图片方差: [[5.20580581e-06]\n",
      " [5.48282083e-06]\n",
      " [4.28625813e-06]\n",
      " ...\n",
      " [4.67316103e-06]\n",
      " [4.34084402e-06]\n",
      " [4.41616400e-06]]\n",
      "测试集：\n",
      "图片数量: 10000\n",
      "图片均值: [[9.23069228e-06]\n",
      " [1.44307723e-05]\n",
      " [4.93747499e-06]\n",
      " ...\n",
      " [1.46213485e-05]\n",
      " [1.32848139e-05]\n",
      " [2.10072513e-05]]\n",
      "图片方差: [[2.58746550e-05]\n",
      " [3.21120091e-05]\n",
      " [1.91633675e-05]\n",
      " ...\n",
      " [3.28837808e-05]\n",
      " [3.10564274e-05]\n",
      " [3.76876851e-05]]\n"
     ]
    }
   ],
   "source": [
    "import numpy as np\n",
    "\n",
    "def get_mean_std(dataset):\n",
    "    length = dataset.length\n",
    "    print('图片数量:', length)\n",
    "    max_val, min_val = np.zeros(length), np.ones(length) * 255\n",
    "    mean, std = np.zeros(length), np.zeros(length)\n",
    "    for i, image in enumerate(dataset.images):\n",
    "        mean[i] += image[:, :].mean()\n",
    "        std[i] += image[:, :].std()\n",
    "        max_val[i] = max(max_val[i], image[:, :].max())\n",
    "        min_val[i] = min(min_val[i], image[:, :].min())\n",
    "\n",
    "    mean /= length\n",
    "    std /= length\n",
    "\n",
    "    mean /= max_val - min_val\n",
    "    std /= max_val - min_val\n",
    "\n",
    "    return mean, std\n",
    "\n",
    "print(\"训练集：\")\n",
    "mean, std = get_mean_std(train_dataset)\n",
    "mean = np.expand_dims(mean, axis=-1)\n",
    "std = np.expand_dims(std, axis=-1)\n",
    "print('图片均值:', mean)\n",
    "print('图片方差:', std)\n",
    "\n",
    "print(\"测试集：\")\n",
    "mean, std = get_mean_std(test_dataset)\n",
    "mean = np.expand_dims(mean, axis=-1)\n",
    "std = np.expand_dims(std, axis=-1)\n",
    "print('图片均值:', mean)\n",
    "print('图片方差:', std)"
   ]
  }
 ],
 "metadata": {
  "kernelspec": {
   "display_name": "Python 3",
   "language": "python",
   "name": "python3"
  },
  "language_info": {
   "codemirror_mode": {
    "name": "ipython",
    "version": 3
   },
   "file_extension": ".py",
   "mimetype": "text/x-python",
   "name": "python",
   "nbconvert_exporter": "python",
   "pygments_lexer": "ipython3",
   "version": "3.9.5"
  }
 },
 "nbformat": 4,
 "nbformat_minor": 1
}
