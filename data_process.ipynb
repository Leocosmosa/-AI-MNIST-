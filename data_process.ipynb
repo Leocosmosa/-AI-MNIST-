{
 "cells": [
  {
   "cell_type": "markdown",
   "metadata": {
    "collapsed": false
   },
   "source": [
    "<h1><font face=\"SimSun\" color=\"black\">2 作业书写区</font></h1>\n",
    "\n",
    "<font face=\"SimSun\" color=\"black\" size=\"4\">&emsp;&emsp;**评分标准：**</font>\n",
    "\n",
    "<font face=\"SimSun\" color=\"black\" size=\"3\">&emsp;&emsp;（1）数据集清洗与介绍（解压数据集、tree命令查看目录结构、样本的可视化展示等），30分。</font>\n",
    "\n",
    "<font face=\"SimSun\" color=\"black\" size=\"3\">&emsp;&emsp;（2）**图像数据集**：计算该数据集的均值和方差；**文本数据集**：使用jieba分词并统计词频，30分。</font>\n",
    "\n",
    "<font face=\"SimSun\" color=\"black\" size=\"3\">&emsp;&emsp;（3）数据集类的定义（继承paddle.io.Dataset的类），30分。</font>\n",
    "\n",
    "<font face=\"SimSun\" color=\"black\" size=\"3\">&emsp;&emsp;（4）数据集类的测试（调用定义好的数据集类，参考章节[1.2]的文档示例），10分。</font>\n",
    "\n",
    "---"
   ]
  },
  {
   "cell_type": "markdown",
   "metadata": {
    "collapsed": false
   },
   "source": [
    "<font face=\"SimSun\" color=\"black\" size=\"2\">&emsp;&emsp;**提示：**</font>\n",
    "\n",
    "<font face=\"SimSun\" color=\"black\" size=\"2\">&emsp;&emsp;（1）若代码块无效输出很长，例如pip安装了某个包，对此可以点击单元格右上角的“清空输出”保持整洁。</font>\n",
    "\n",
    "<font face=\"SimSun\" color=\"black\" size=\"2\">&emsp;&emsp;（2）以下代码样例中，若和你的作业内容无关，请参考后删除该代码块，只留下自己的作业部分。</font>\n",
    "\n",
    "<font face=\"SimSun\" color=\"black\" size=\"2\">&emsp;&emsp;（3）提交作业时，请记得在左侧栏中选择“版本->生成新版本->自拟版本名称和文件”生成版本，然后在作业的提交页面中选择指定的版本。</font>\n",
    "\n",
    "<font face=\"SimSun\" color=\"black\" size=\"2\">&emsp;&emsp;（4）*点击该链接可查看本环境基本用法：[https://ai.baidu.com/docs#/AIStudio_Project_Notebook/a38e5576](https://ai.baidu.com/docs#/AIStudio_Project_Notebook/a38e5576)。*</font>"
   ]
  },
  {
   "cell_type": "markdown",
   "metadata": {
    "collapsed": false
   },
   "source": [
    "<h2><font face=\"SimSun\" color=\"black\">2.1 数据集的准备与介绍（30分）</font></h2>\n",
    "\n",
    "样本的可视化展示移至最后"
   ]
  },
  {
   "cell_type": "markdown",
   "metadata": {
    "collapsed": false
   },
   "source": [
    "下载MNIST数据集至本地后，通过上传文件导入至work文件夹下(data文件加下数据在notebook重新加载后无法保存)，使用gzip命令进行解压"
   ]
  },
  {
   "cell_type": "code",
   "execution_count": 1,
   "metadata": {
    "collapsed": false
   },
   "outputs": [],
   "source": [
    "!gzip -dfq work/t10k-labels-idx1-ubyte.gz\r\n",
    "!gzip -dfq work/train-labels-idx1-ubyte.gz\r\n",
    "!gzip -dfq work/t10k-images-idx3-ubyte.gz\r\n",
    "!gzip -dfq work/train-images-idx3-ubyte.gz"
   ]
  },
  {
   "cell_type": "code",
   "execution_count": 2,
   "metadata": {
    "collapsed": false
   },
   "outputs": [
    {
     "name": "stdout",
     "output_type": "stream",
     "text": [
      "work\n",
      "\n",
      "0 directories\n",
      "t10k-images-idx3-ubyte\ttrain-images-idx3-ubyte\n",
      "t10k-labels-idx1-ubyte\ttrain-labels-idx1-ubyte\n"
     ]
    }
   ],
   "source": [
    "!tree work -d\r\n",
    "!ls work"
   ]
  },
  {
   "cell_type": "markdown",
   "metadata": {
    "collapsed": false
   },
   "source": [
    "MNIST手写数字数据库，包含60000个样本的训练集和10000个样本的测试集\n",
    "\n",
    "训练集图片文件为train-images-idx3-ubyte，标签文件为train-labels-idx1-ubyte，共包含60,000个样本，每个样本对应一个28 * 28像素的[0, 255]灰度图片，以及一个[0, 9]的标签\n",
    "\n",
    "测试集图片文件为t10k-images-idx3-ubyte，标签文件为t10k-labels-idx1-ubyte，共包含10,000个样本，每个样本对应一个28 * 28像素的[0, 255]灰度图片，以及一个[0, 9]的标签\n",
    "\n",
    "注1：\n",
    "0表示白色，255表示黑色\n",
    "\n",
    "注2：\n",
    "文件格式为idx，前4个字节包含了文本信息——前2个字节置0，第3个字节为数据类型编码（0x08表示无符号字节[0, 255]），第4个字节为数据维度k（0x03表示3维）\n",
    "    \n",
    "之后每4个字节（int32）表示一个维度特征，共k个特征，即k个int32数据表示dim1, dim2...dimk\n",
    "    \n",
    "之后为数据主要内容，总数据量大小为$\\prod_{i=1}^k dim_i$\n"
   ]
  },
  {
   "cell_type": "markdown",
   "metadata": {
    "collapsed": false
   },
   "source": [
    "<h2><font face=\"SimSun\" color=\"black\"><s>2.2 图像/文本数据的统计分析（30分）</s></font></h2>\n",
    "\n",
    "该部分移至最后，待完成数据集类定义和测试后进行分析，并进行样本可视化展示"
   ]
  },
  {
   "cell_type": "markdown",
   "metadata": {
    "collapsed": false
   },
   "source": [
    "<h2><font face=\"SimSun\" color=\"black\">2.2 数据集类的定义（30分）</font></h2>"
   ]
  },
  {
   "cell_type": "markdown",
   "metadata": {
    "collapsed": false
   },
   "source": [
    "自定义MyMNISTDataset类继承paddle.io.Dataset，并实现\\_\\_init\\_\\_, \\_\\_getitem\\_\\_，\\_\\_len\\_\\_方法\n",
    "\n",
    "decode_idx3_ubyte和decode_idx1_ubyte方法分别完成图片和标签文件的解码，并返回numpy格式的图片数据和标签数据"
   ]
  },
  {
   "cell_type": "code",
   "execution_count": 3,
   "metadata": {
    "collapsed": false
   },
   "outputs": [],
   "source": [
    "import paddle\r\n",
    "import numpy as np\r\n",
    "import struct\r\n",
    "\r\n",
    "class MyMNISTDataset(paddle.io.Dataset):\r\n",
    "    def __init__(self, image_file, label_file):\r\n",
    "        super(MyMNISTDataset, self).__init__()\r\n",
    "        self.images = self.decode_idx3_ubyte(image_file)\r\n",
    "        self.labels = self.decode_idx1_ubyte(label_file)\r\n",
    "        self.length = len(self.labels)\r\n",
    "\r\n",
    "    def __getitem__(self, index):\r\n",
    "        return self.images[index], self.labels[index]\r\n",
    "\r\n",
    "    def __len__(self):\r\n",
    "        return self.length\r\n",
    "\r\n",
    "    def decode_idx3_ubyte(self, idx3_ubyte_file):\r\n",
    "        bin_data = open(idx3_ubyte_file, 'rb').read()\r\n",
    "        offset = 0\r\n",
    "        fmt_header = '>iiii'\r\n",
    "        magic_number, num_images, num_rows, num_cols = struct.unpack_from(fmt_header, bin_data, offset)\r\n",
    "        image_size = num_rows * num_cols\r\n",
    "        offset += struct.calcsize(fmt_header)\r\n",
    "        fmt_image = '>' + str(image_size) + 'B'\r\n",
    "        images = np.empty((num_images, num_rows, num_cols), dtype=np.uint8)\r\n",
    "        for i in range(num_images):\r\n",
    "            images[i] = np.array(struct.unpack_from(fmt_image, bin_data, offset)).reshape((num_rows, num_cols))\r\n",
    "            offset += struct.calcsize(fmt_image)\r\n",
    "        return images\r\n",
    "\r\n",
    "    def decode_idx1_ubyte(self,idx1_ubyte_file):\r\n",
    "        bin_data = open(idx1_ubyte_file, 'rb').read()\r\n",
    "        offset = 0\r\n",
    "        fmt_header = '>ii'\r\n",
    "        magic_number, num_labels = struct.unpack_from(fmt_header, bin_data, offset)\r\n",
    "        offset += struct.calcsize(fmt_header)\r\n",
    "        fmt_label = '>B'\r\n",
    "        labels = np.empty(num_labels, dtype=np.uint8)\r\n",
    "        for i in range(num_labels):\r\n",
    "            labels[i] = struct.unpack_from(fmt_label, bin_data, offset)[0]\r\n",
    "            offset += struct.calcsize(fmt_label)\r\n",
    "        labels = np.expand_dims(labels, axis=-1)\r\n",
    "        return labels"
   ]
  },
  {
   "cell_type": "markdown",
   "metadata": {
    "collapsed": false
   },
   "source": [
    "<h2><font face=\"SimSun\" color=\"black\">2.3 数据集类的测试（10分）</font></h2>"
   ]
  },
  {
   "cell_type": "markdown",
   "metadata": {
    "collapsed": false
   },
   "source": [
    "通过MyMNISTDataset类构造训练集和测试集，分别获得样本数据和标签数据，测试get、len方法，并用dataloader封装后测试batch效果"
   ]
  },
  {
   "cell_type": "code",
   "execution_count": 4,
   "metadata": {
    "collapsed": false
   },
   "outputs": [
    {
     "name": "stdout",
     "output_type": "stream",
     "text": [
      "训练集样本大小： 60000\n",
      "训练集图片大小： (60000, 28, 28)\n",
      "训练集标签大小： (60000, 1)\n",
      "训练集第1个样本： \n",
      "标签： [5] \n",
      "图片： [[  0   0   0   0   0   0   0   0   0   0   0   0   0   0   0   0   0   0\n",
      "    0   0   0   0   0   0   0   0   0   0]\n",
      " [  0   0   0   0   0   0   0   0   0   0   0   0   0   0   0   0   0   0\n",
      "    0   0   0   0   0   0   0   0   0   0]\n",
      " [  0   0   0   0   0   0   0   0   0   0   0   0   0   0   0   0   0   0\n",
      "    0   0   0   0   0   0   0   0   0   0]\n",
      " [  0   0   0   0   0   0   0   0   0   0   0   0   0   0   0   0   0   0\n",
      "    0   0   0   0   0   0   0   0   0   0]\n",
      " [  0   0   0   0   0   0   0   0   0   0   0   0   0   0   0   0   0   0\n",
      "    0   0   0   0   0   0   0   0   0   0]\n",
      " [  0   0   0   0   0   0   0   0   0   0   0   0   3  18  18  18 126 136\n",
      "  175  26 166 255 247 127   0   0   0   0]\n",
      " [  0   0   0   0   0   0   0   0  30  36  94 154 170 253 253 253 253 253\n",
      "  225 172 253 242 195  64   0   0   0   0]\n",
      " [  0   0   0   0   0   0   0  49 238 253 253 253 253 253 253 253 253 251\n",
      "   93  82  82  56  39   0   0   0   0   0]\n",
      " [  0   0   0   0   0   0   0  18 219 253 253 253 253 253 198 182 247 241\n",
      "    0   0   0   0   0   0   0   0   0   0]\n",
      " [  0   0   0   0   0   0   0   0  80 156 107 253 253 205  11   0  43 154\n",
      "    0   0   0   0   0   0   0   0   0   0]\n",
      " [  0   0   0   0   0   0   0   0   0  14   1 154 253  90   0   0   0   0\n",
      "    0   0   0   0   0   0   0   0   0   0]\n",
      " [  0   0   0   0   0   0   0   0   0   0   0 139 253 190   2   0   0   0\n",
      "    0   0   0   0   0   0   0   0   0   0]\n",
      " [  0   0   0   0   0   0   0   0   0   0   0  11 190 253  70   0   0   0\n",
      "    0   0   0   0   0   0   0   0   0   0]\n",
      " [  0   0   0   0   0   0   0   0   0   0   0   0  35 241 225 160 108   1\n",
      "    0   0   0   0   0   0   0   0   0   0]\n",
      " [  0   0   0   0   0   0   0   0   0   0   0   0   0  81 240 253 253 119\n",
      "   25   0   0   0   0   0   0   0   0   0]\n",
      " [  0   0   0   0   0   0   0   0   0   0   0   0   0   0  45 186 253 253\n",
      "  150  27   0   0   0   0   0   0   0   0]\n",
      " [  0   0   0   0   0   0   0   0   0   0   0   0   0   0   0  16  93 252\n",
      "  253 187   0   0   0   0   0   0   0   0]\n",
      " [  0   0   0   0   0   0   0   0   0   0   0   0   0   0   0   0   0 249\n",
      "  253 249  64   0   0   0   0   0   0   0]\n",
      " [  0   0   0   0   0   0   0   0   0   0   0   0   0   0  46 130 183 253\n",
      "  253 207   2   0   0   0   0   0   0   0]\n",
      " [  0   0   0   0   0   0   0   0   0   0   0   0  39 148 229 253 253 253\n",
      "  250 182   0   0   0   0   0   0   0   0]\n",
      " [  0   0   0   0   0   0   0   0   0   0  24 114 221 253 253 253 253 201\n",
      "   78   0   0   0   0   0   0   0   0   0]\n",
      " [  0   0   0   0   0   0   0   0  23  66 213 253 253 253 253 198  81   2\n",
      "    0   0   0   0   0   0   0   0   0   0]\n",
      " [  0   0   0   0   0   0  18 171 219 253 253 253 253 195  80   9   0   0\n",
      "    0   0   0   0   0   0   0   0   0   0]\n",
      " [  0   0   0   0  55 172 226 253 253 253 253 244 133  11   0   0   0   0\n",
      "    0   0   0   0   0   0   0   0   0   0]\n",
      " [  0   0   0   0 136 253 253 253 212 135 132  16   0   0   0   0   0   0\n",
      "    0   0   0   0   0   0   0   0   0   0]\n",
      " [  0   0   0   0   0   0   0   0   0   0   0   0   0   0   0   0   0   0\n",
      "    0   0   0   0   0   0   0   0   0   0]\n",
      " [  0   0   0   0   0   0   0   0   0   0   0   0   0   0   0   0   0   0\n",
      "    0   0   0   0   0   0   0   0   0   0]\n",
      " [  0   0   0   0   0   0   0   0   0   0   0   0   0   0   0   0   0   0\n",
      "    0   0   0   0   0   0   0   0   0   0]]\n",
      "测试集样本大小： 10000\n",
      "测试集图片大小： (10000, 28, 28)\n",
      "测试集标签大小： (10000, 1)\n",
      "测试集第1个样本： \n",
      "标签： [7] \n",
      "图片： [[  0   0   0   0   0   0   0   0   0   0   0   0   0   0   0   0   0   0\n",
      "    0   0   0   0   0   0   0   0   0   0]\n",
      " [  0   0   0   0   0   0   0   0   0   0   0   0   0   0   0   0   0   0\n",
      "    0   0   0   0   0   0   0   0   0   0]\n",
      " [  0   0   0   0   0   0   0   0   0   0   0   0   0   0   0   0   0   0\n",
      "    0   0   0   0   0   0   0   0   0   0]\n",
      " [  0   0   0   0   0   0   0   0   0   0   0   0   0   0   0   0   0   0\n",
      "    0   0   0   0   0   0   0   0   0   0]\n",
      " [  0   0   0   0   0   0   0   0   0   0   0   0   0   0   0   0   0   0\n",
      "    0   0   0   0   0   0   0   0   0   0]\n",
      " [  0   0   0   0   0   0   0   0   0   0   0   0   0   0   0   0   0   0\n",
      "    0   0   0   0   0   0   0   0   0   0]\n",
      " [  0   0   0   0   0   0   0   0   0   0   0   0   0   0   0   0   0   0\n",
      "    0   0   0   0   0   0   0   0   0   0]\n",
      " [  0   0   0   0   0   0  84 185 159 151  60  36   0   0   0   0   0   0\n",
      "    0   0   0   0   0   0   0   0   0   0]\n",
      " [  0   0   0   0   0   0 222 254 254 254 254 241 198 198 198 198 198 198\n",
      "  198 198 170  52   0   0   0   0   0   0]\n",
      " [  0   0   0   0   0   0  67 114  72 114 163 227 254 225 254 254 254 250\n",
      "  229 254 254 140   0   0   0   0   0   0]\n",
      " [  0   0   0   0   0   0   0   0   0   0   0  17  66  14  67  67  67  59\n",
      "   21 236 254 106   0   0   0   0   0   0]\n",
      " [  0   0   0   0   0   0   0   0   0   0   0   0   0   0   0   0   0   0\n",
      "   83 253 209  18   0   0   0   0   0   0]\n",
      " [  0   0   0   0   0   0   0   0   0   0   0   0   0   0   0   0   0  22\n",
      "  233 255  83   0   0   0   0   0   0   0]\n",
      " [  0   0   0   0   0   0   0   0   0   0   0   0   0   0   0   0   0 129\n",
      "  254 238  44   0   0   0   0   0   0   0]\n",
      " [  0   0   0   0   0   0   0   0   0   0   0   0   0   0   0   0  59 249\n",
      "  254  62   0   0   0   0   0   0   0   0]\n",
      " [  0   0   0   0   0   0   0   0   0   0   0   0   0   0   0   0 133 254\n",
      "  187   5   0   0   0   0   0   0   0   0]\n",
      " [  0   0   0   0   0   0   0   0   0   0   0   0   0   0   0   9 205 248\n",
      "   58   0   0   0   0   0   0   0   0   0]\n",
      " [  0   0   0   0   0   0   0   0   0   0   0   0   0   0   0 126 254 182\n",
      "    0   0   0   0   0   0   0   0   0   0]\n",
      " [  0   0   0   0   0   0   0   0   0   0   0   0   0   0  75 251 240  57\n",
      "    0   0   0   0   0   0   0   0   0   0]\n",
      " [  0   0   0   0   0   0   0   0   0   0   0   0   0  19 221 254 166   0\n",
      "    0   0   0   0   0   0   0   0   0   0]\n",
      " [  0   0   0   0   0   0   0   0   0   0   0   0   3 203 254 219  35   0\n",
      "    0   0   0   0   0   0   0   0   0   0]\n",
      " [  0   0   0   0   0   0   0   0   0   0   0   0  38 254 254  77   0   0\n",
      "    0   0   0   0   0   0   0   0   0   0]\n",
      " [  0   0   0   0   0   0   0   0   0   0   0  31 224 254 115   1   0   0\n",
      "    0   0   0   0   0   0   0   0   0   0]\n",
      " [  0   0   0   0   0   0   0   0   0   0   0 133 254 254  52   0   0   0\n",
      "    0   0   0   0   0   0   0   0   0   0]\n",
      " [  0   0   0   0   0   0   0   0   0   0  61 242 254 254  52   0   0   0\n",
      "    0   0   0   0   0   0   0   0   0   0]\n",
      " [  0   0   0   0   0   0   0   0   0   0 121 254 254 219  40   0   0   0\n",
      "    0   0   0   0   0   0   0   0   0   0]\n",
      " [  0   0   0   0   0   0   0   0   0   0 121 254 207  18   0   0   0   0\n",
      "    0   0   0   0   0   0   0   0   0   0]\n",
      " [  0   0   0   0   0   0   0   0   0   0   0   0   0   0   0   0   0   0\n",
      "    0   0   0   0   0   0   0   0   0   0]]\n"
     ]
    }
   ],
   "source": [
    "train_dataset = MyMNISTDataset(\"work/train-images-idx3-ubyte\", \"work/train-labels-idx1-ubyte\")\r\n",
    "print(\"训练集样本大小：\", len(train_dataset))\r\n",
    "print(\"训练集图片大小：\", train_dataset.images.shape)\r\n",
    "print(\"训练集标签大小：\", train_dataset.labels.shape)\r\n",
    "print(\"训练集第1个样本：\", \"\\n标签：\", train_dataset.labels[0], \"\\n图片：\", train_dataset.images[0])\r\n",
    "test_dataset = MyMNISTDataset(\"work/t10k-images-idx3-ubyte\", \"work/t10k-labels-idx1-ubyte\")\r\n",
    "print(\"测试集样本大小：\", len(test_dataset))\r\n",
    "print(\"测试集图片大小：\", test_dataset.images.shape)\r\n",
    "print(\"测试集标签大小：\", test_dataset.labels.shape)\r\n",
    "print(\"测试集第1个样本：\", \"\\n标签：\", test_dataset.labels[0], \"\\n图片：\", test_dataset.images[0])"
   ]
  },
  {
   "cell_type": "code",
   "execution_count": 5,
   "metadata": {
    "collapsed": false
   },
   "outputs": [
    {
     "name": "stdout",
     "output_type": "stream",
     "text": [
      "训练集batch数据: 0 [1024, 28, 28] [1024, 1]\n",
      "训练集batch数据: 1 [1024, 28, 28] [1024, 1]\n",
      "训练集batch数据: 2 [1024, 28, 28] [1024, 1]\n",
      "训练集batch数据: 3 [1024, 28, 28] [1024, 1]\n",
      "训练集batch数据: 4 [1024, 28, 28] [1024, 1]\n",
      "训练集batch数据: 5 [1024, 28, 28] [1024, 1]\n",
      "训练集batch数据: 6 [1024, 28, 28] [1024, 1]\n",
      "训练集batch数据: 7 [1024, 28, 28] [1024, 1]\n",
      "训练集batch数据: 8 [1024, 28, 28] [1024, 1]\n",
      "训练集batch数据: 9 [1024, 28, 28] [1024, 1]\n",
      "训练集batch数据: 10 [1024, 28, 28] [1024, 1]\n",
      "训练集batch数据: 11 [1024, 28, 28] [1024, 1]\n",
      "训练集batch数据: 12 [1024, 28, 28] [1024, 1]\n",
      "训练集batch数据: 13 [1024, 28, 28] [1024, 1]\n",
      "训练集batch数据: 14 [1024, 28, 28] [1024, 1]\n",
      "训练集batch数据: 15 [1024, 28, 28] [1024, 1]\n",
      "训练集batch数据: 16 [1024, 28, 28] [1024, 1]\n",
      "训练集batch数据: 17 [1024, 28, 28] [1024, 1]\n",
      "训练集batch数据: 18 [1024, 28, 28] [1024, 1]\n",
      "训练集batch数据: 19 [1024, 28, 28] [1024, 1]\n",
      "训练集batch数据: 20 [1024, 28, 28] [1024, 1]\n",
      "训练集batch数据: 21 [1024, 28, 28] [1024, 1]\n",
      "训练集batch数据: 22 [1024, 28, 28] [1024, 1]\n",
      "训练集batch数据: 23 [1024, 28, 28] [1024, 1]\n",
      "训练集batch数据: 24 [1024, 28, 28] [1024, 1]\n",
      "训练集batch数据: 25 [1024, 28, 28] [1024, 1]\n",
      "训练集batch数据: 26 [1024, 28, 28] [1024, 1]\n",
      "训练集batch数据: 27 [1024, 28, 28] [1024, 1]\n",
      "训练集batch数据: 28 [1024, 28, 28] [1024, 1]\n",
      "训练集batch数据: 29 [1024, 28, 28] [1024, 1]\n",
      "训练集batch数据: 30 [1024, 28, 28] [1024, 1]\n",
      "训练集batch数据: 31 [1024, 28, 28] [1024, 1]\n",
      "训练集batch数据: 32 [1024, 28, 28] [1024, 1]\n",
      "训练集batch数据: 33 [1024, 28, 28] [1024, 1]\n",
      "训练集batch数据: 34 [1024, 28, 28] [1024, 1]\n",
      "训练集batch数据: 35 [1024, 28, 28] [1024, 1]\n",
      "训练集batch数据: 36 [1024, 28, 28] [1024, 1]\n",
      "训练集batch数据: 37 [1024, 28, 28] [1024, 1]\n",
      "训练集batch数据: 38 [1024, 28, 28] [1024, 1]\n",
      "训练集batch数据: 39 [1024, 28, 28] [1024, 1]\n",
      "训练集batch数据: 40 [1024, 28, 28] [1024, 1]\n",
      "训练集batch数据: 41 [1024, 28, 28] [1024, 1]\n",
      "训练集batch数据: 42 [1024, 28, 28] [1024, 1]\n",
      "训练集batch数据: 43 [1024, 28, 28] [1024, 1]\n",
      "训练集batch数据: 44 [1024, 28, 28] [1024, 1]\n",
      "训练集batch数据: 45 [1024, 28, 28] [1024, 1]\n",
      "训练集batch数据: 46 [1024, 28, 28] [1024, 1]\n",
      "训练集batch数据: 47 [1024, 28, 28] [1024, 1]\n",
      "训练集batch数据: 48 [1024, 28, 28] [1024, 1]\n",
      "训练集batch数据: 49 [1024, 28, 28] [1024, 1]\n",
      "训练集batch数据: 50 [1024, 28, 28] [1024, 1]\n",
      "训练集batch数据: 51 [1024, 28, 28] [1024, 1]\n",
      "训练集batch数据: 52 [1024, 28, 28] [1024, 1]\n",
      "训练集batch数据: 53 [1024, 28, 28] [1024, 1]\n",
      "训练集batch数据: 54 [1024, 28, 28] [1024, 1]\n",
      "训练集batch数据: 55 [1024, 28, 28] [1024, 1]\n",
      "训练集batch数据: 56 [1024, 28, 28] [1024, 1]\n",
      "训练集batch数据: 57 [1024, 28, 28] [1024, 1]\n",
      "训练集batch数据: 58 [608, 28, 28] [608, 1]\n",
      "测试集batch数据: 0 [1024, 28, 28] [1024, 1]\n",
      "测试集batch数据: 1 [1024, 28, 28] [1024, 1]\n",
      "测试集batch数据: 2 [1024, 28, 28] [1024, 1]\n",
      "测试集batch数据: 3 [1024, 28, 28] [1024, 1]\n",
      "测试集batch数据: 4 [1024, 28, 28] [1024, 1]\n",
      "测试集batch数据: 5 [1024, 28, 28] [1024, 1]\n",
      "测试集batch数据: 6 [1024, 28, 28] [1024, 1]\n",
      "测试集batch数据: 7 [1024, 28, 28] [1024, 1]\n",
      "测试集batch数据: 8 [1024, 28, 28] [1024, 1]\n",
      "测试集batch数据: 9 [784, 28, 28] [784, 1]\n"
     ]
    }
   ],
   "source": [
    "train_dataloader = paddle.io.DataLoader(\r\n",
    "    train_dataset,\r\n",
    "    batch_size=1024,\r\n",
    "    shuffle=True,\r\n",
    "    drop_last=False)\r\n",
    "for step, data in enumerate(train_dataloader):\r\n",
    "    image, label = data\r\n",
    "    print(\"训练集batch数据:\", step, image.shape, label.shape)\r\n",
    "test_dataloader = paddle.io.DataLoader(\r\n",
    "    test_dataset,\r\n",
    "    batch_size=1024,\r\n",
    "    shuffle=True,\r\n",
    "    drop_last=False)\r\n",
    "for step, data in enumerate(test_dataloader):\r\n",
    "    image, label = data\r\n",
    "    print(\"测试集batch数据:\", step, image.shape, label.shape)"
   ]
  },
  {
   "cell_type": "markdown",
   "metadata": {
    "collapsed": false
   },
   "source": [
    "<h2><font face=\"SimSun\" color=\"black\">2.4 图像/文本数据的统计分析（30分）</font></h2>"
   ]
  },
  {
   "cell_type": "markdown",
   "metadata": {
    "collapsed": false
   },
   "source": [
    "对训练集和测试集的第1个样本进行可视化展示"
   ]
  },
  {
   "cell_type": "code",
   "execution_count": 8,
   "metadata": {
    "collapsed": false
   },
   "outputs": [
    {
     "data": {
      "text/plain": [
       "<matplotlib.image.AxesImage at 0x7f6fb55fe150>"
      ]
     },
     "execution_count": 8,
     "metadata": {},
     "output_type": "execute_result"
    },
    {
     "data": {
      "image/png": "[encoded data removed]",
      "text/plain": [
       "<Figure size 432x288 with 2 Axes>"
      ]
     },
     "metadata": {},
     "output_type": "display_data"
    }
   ],
   "source": [
    "from matplotlib import pyplot as plt\r\n",
    "\r\n",
    "plt.subplot(1, 2, 1)\r\n",
    "plt.imshow(train_dataset.images[0])\r\n",
    "plt.subplot(1, 2, 2)\r\n",
    "plt.imshow(test_dataset.images[0])"
   ]
  },
  {
   "cell_type": "markdown",
   "metadata": {
    "collapsed": false
   },
   "source": [
    "对训练集和测试集的全量样本，分别进行图片数据整体均值和方差计算"
   ]
  },
  {
   "cell_type": "code",
   "execution_count": 7,
   "metadata": {
    "collapsed": false
   },
   "outputs": [
    {
     "name": "stdout",
     "output_type": "stream",
     "text": [
      "训练集：\n",
      "图片数量: 60000\n",
      "图片均值: [[2.29466787e-06]\n",
      " [2.59228691e-06]\n",
      " [1.62089836e-06]\n",
      " ...\n",
      " [1.84507136e-06]\n",
      " [1.70301454e-06]\n",
      " [1.74403095e-06]]\n",
      "图片方差: [[5.20580581e-06]\n",
      " [5.48282083e-06]\n",
      " [4.28625813e-06]\n",
      " ...\n",
      " [4.67316103e-06]\n",
      " [4.34084402e-06]\n",
      " [4.41616400e-06]]\n",
      "测试集：\n",
      "图片数量: 10000\n",
      "图片均值: [[9.23069228e-06]\n",
      " [1.44307723e-05]\n",
      " [4.93747499e-06]\n",
      " ...\n",
      " [1.46213485e-05]\n",
      " [1.32848139e-05]\n",
      " [2.10072513e-05]]\n",
      "图片方差: [[2.58746550e-05]\n",
      " [3.21120091e-05]\n",
      " [1.91633675e-05]\n",
      " ...\n",
      " [3.28837808e-05]\n",
      " [3.10564274e-05]\n",
      " [3.76876851e-05]]\n"
     ]
    }
   ],
   "source": [
    "import numpy as np\r\n",
    "\r\n",
    "def get_mean_std(dataset):\r\n",
    "    length = dataset.length\r\n",
    "    print('图片数量:', length)\r\n",
    "    max_val, min_val = np.zeros(length), np.ones(length) * 255\r\n",
    "    mean, std = np.zeros(length), np.zeros(length)\r\n",
    "    for i, image in enumerate(dataset.images):\r\n",
    "        mean[i] += image[:, :].mean()\r\n",
    "        std[i] += image[:, :].std()\r\n",
    "        max_val[i] = max(max_val[i], image[:, :].max())\r\n",
    "        min_val[i] = min(min_val[i], image[:, :].min())\r\n",
    "\r\n",
    "    mean /= length\r\n",
    "    std /= length\r\n",
    "\r\n",
    "    mean /= max_val - min_val\r\n",
    "    std /= max_val - min_val\r\n",
    "\r\n",
    "    return mean, std\r\n",
    "\r\n",
    "print(\"训练集：\")\r\n",
    "mean, std = get_mean_std(train_dataset)\r\n",
    "mean = np.expand_dims(mean, axis=-1)\r\n",
    "std = np.expand_dims(std, axis=-1)\r\n",
    "print('图片均值:', mean)\r\n",
    "print('图片方差:', std)\r\n",
    "\r\n",
    "print(\"测试集：\")\r\n",
    "mean, std = get_mean_std(test_dataset)\r\n",
    "mean = np.expand_dims(mean, axis=-1)\r\n",
    "std = np.expand_dims(std, axis=-1)\r\n",
    "print('图片均值:', mean)\r\n",
    "print('图片方差:', std)"
   ]
  }
 ],
 "metadata": {
  "kernelspec": {
   "display_name": "Python 3",
   "language": "python",
   "name": "py35-paddle1.2.0"
  },
  "language_info": {
   "codemirror_mode": {
    "name": "ipython",
    "version": 3
   },
   "file_extension": ".py",
   "mimetype": "text/x-python",
   "name": "python",
   "nbconvert_exporter": "python",
   "pygments_lexer": "ipython3",
   "version": "3.7.4"
  }
 },
 "nbformat": 4,
 "nbformat_minor": 1
}
