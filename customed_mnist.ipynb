{
 "cells": [
  {
   "cell_type": "markdown",
   "metadata": {},
   "source": [
    "# 作业三：选择模型并完成训练"
   ]
  },
  {
   "cell_type": "markdown",
   "metadata": {},
   "source": [
    "## 评分标准\n",
    "\n",
    "* 选择模型，可用套件，也可以自己组网 （30分）\n",
    "\n",
    "* 配置超参数并训练模型（30分）\n",
    "\n",
    "* 测试模型效果（30分）\n",
    "\n",
    "* 可视化模型效果（10分）"
   ]
  },
  {
   "cell_type": "markdown",
   "metadata": {},
   "source": [
    "## 数据处理\n",
    "\n",
    "数据集准备，定义数据集类，加载数据集"
   ]
  },
  {
   "cell_type": "code",
   "execution_count": 1,
   "metadata": {},
   "outputs": [],
   "source": [
    "# 使用gzip命令解压数据集文件\n",
    "!gzip -dfq data/data65/t10k-labels-idx1-ubyte.gz\n",
    "!gzip -dfq data/data65/train-labels-idx1-ubyte.gz\n",
    "!gzip -dfq data/data65/t10k-images-idx3-ubyte.gz\n",
    "!gzip -dfq data/data65/train-images-idx3-ubyte.gz"
   ]
  },
  {
   "cell_type": "code",
   "execution_count": 2,
   "metadata": {},
   "outputs": [],
   "source": [
    "# 定义数据集类\n",
    "import paddle\n",
    "import numpy as np\n",
    "import struct\n",
    "\n",
    "class MyMNISTDataset(paddle.io.Dataset):\n",
    "    def __init__(self, image_file, label_file):\n",
    "        super(MyMNISTDataset, self).__init__()\n",
    "        self.images = self.decode_idx3_ubyte(image_file)\n",
    "        self.labels = self.decode_idx1_ubyte(label_file)\n",
    "        self.length = len(self.labels)\n",
    "\n",
    "    def __getitem__(self, index):\n",
    "        return self.images[index].astype('float32'), self.labels[index].astype('int64')\n",
    "\n",
    "    def __len__(self):\n",
    "        return self.length\n",
    "\n",
    "    def decode_idx3_ubyte(self, idx3_ubyte_file):\n",
    "        bin_data = open(idx3_ubyte_file, 'rb').read()\n",
    "        offset = 0\n",
    "        fmt_header = '>iiii'\n",
    "        magic_number, num_images, num_rows, num_cols = struct.unpack_from(fmt_header, bin_data, offset)\n",
    "        image_size = num_rows * num_cols\n",
    "        offset += struct.calcsize(fmt_header)\n",
    "        fmt_image = '>' + str(image_size) + 'B'\n",
    "        images = np.empty((num_images, num_rows, num_cols), dtype=np.uint8)\n",
    "        for i in range(num_images):\n",
    "            images[i] = np.array(struct.unpack_from(fmt_image, bin_data, offset)).reshape((num_rows, num_cols))\n",
    "            offset += struct.calcsize(fmt_image)\n",
    "        images = np.expand_dims(images, axis=1)\n",
    "        return images\n",
    "\n",
    "    def decode_idx1_ubyte(self,idx1_ubyte_file):\n",
    "        bin_data = open(idx1_ubyte_file, 'rb').read()\n",
    "        offset = 0\n",
    "        fmt_header = '>ii'\n",
    "        magic_number, num_labels = struct.unpack_from(fmt_header, bin_data, offset)\n",
    "        offset += struct.calcsize(fmt_header)\n",
    "        fmt_label = '>B'\n",
    "        labels = np.empty(num_labels, dtype=np.uint8)\n",
    "        for i in range(num_labels):\n",
    "            labels[i] = struct.unpack_from(fmt_label, bin_data, offset)[0]\n",
    "            offset += struct.calcsize(fmt_label)\n",
    "        labels = np.expand_dims(labels, axis=-1)\n",
    "        return labels"
   ]
  },
  {
   "cell_type": "code",
   "execution_count": 3,
   "metadata": {},
   "outputs": [],
   "source": [
    "# 加载数据集\n",
    "train_dataset = MyMNISTDataset(\"data/data65/train-images-idx3-ubyte\", \"data/data65/train-labels-idx1-ubyte\")\n",
    "test_dataset = MyMNISTDataset(\"data/data65/t10k-images-idx3-ubyte\", \"data/data65/t10k-labels-idx1-ubyte\")"
   ]
  },
  {
   "cell_type": "markdown",
   "metadata": {},
   "source": [
    "## 模型准备\n",
    "\n",
    "（为了缩短开发周期，建议选择飞桨官方套件，如果有余力可以自己组网实现）"
   ]
  },
  {
   "cell_type": "code",
   "execution_count": 4,
   "metadata": {},
   "outputs": [],
   "source": [
    "# 模型准备，初期采用Lenet模型\n",
    "\n",
    "import paddle.nn as nn\n",
    "import paddle.nn.functional as F\n",
    "\n",
    "class Lenet(nn.Layer):\n",
    "    def __init__(self):\n",
    "        super(Lenet, self).__init__()\n",
    "        self.conv1 = nn.Conv2D(1, 6, 5)\n",
    "        self.pool1 = nn.MaxPool2D(2, 2)\n",
    "        self.conv2 = nn.Conv2D(6, 16, 5)\n",
    "        self.pool2 = nn.MaxPool2D(2, 2)\n",
    "        self.fc1 = nn.Linear(16 * 4 * 4, 120)\n",
    "        self.fc2 = nn.Linear(120, 84)\n",
    "        self.fc3 = nn.Linear(84, 10)\n",
    "\n",
    "    def forward(self, x):\n",
    "        x = F.relu(self.conv1(x))\n",
    "        x = self.pool1(x)\n",
    "        x = F.relu(self.conv2(x))\n",
    "        x = self.pool2(x)\n",
    "        x = paddle.flatten(x, start_axis=1, stop_axis=-1)\n",
    "        x = F.relu(self.fc1(x))\n",
    "        x = F.relu(self.fc2(x))\n",
    "        # x = F.softmax(self.fc3(x))\n",
    "        return x"
   ]
  },
  {
   "cell_type": "markdown",
   "metadata": {},
   "source": [
    "## 模型训练\n",
    "\n",
    "训练模型需要说明：\n",
    "\n",
    "* lr_schedule\n",
    "* optimize\n",
    "* epoch\n",
    "* batch_size\n",
    "* Loss function"
   ]
  },
  {
   "cell_type": "code",
   "execution_count": 5,
   "metadata": {},
   "outputs": [
    {
     "name": "stderr",
     "output_type": "stream",
     "text": [
      "W0227 05:50:14.961468   252 device_context.cc:447] Please NOTE: device: 0, GPU Compute Capability: 7.0, Driver API Version: 10.1, Runtime API Version: 10.1\n",
      "W0227 05:50:14.965730   252 device_context.cc:465] device: 0, cuDNN Version: 7.6.\n"
     ]
    }
   ],
   "source": [
    "# 定义模型参数\n",
    "from paddle.optimizer import Adam\n",
    "\n",
    "lr = 0.001\n",
    "\n",
    "model = paddle.Model(Lenet())\n",
    "opt = Adam(learning_rate=lr, parameters=model.parameters())\n",
    "\n",
    "epoch = 10\n",
    "\n",
    "batch_size = 64\n",
    "\n",
    "loss = nn.CrossEntropyLoss()\n",
    "\n",
    "model.prepare(\n",
    "    optimizer=opt,\n",
    "    loss=loss,\n",
    "    metrics=paddle.metric.Accuracy())"
   ]
  },
  {
   "cell_type": "code",
   "execution_count": 6,
   "metadata": {},
   "outputs": [
    {
     "name": "stdout",
     "output_type": "stream",
     "text": [
      "The loss value printed in the log is the current step, and the metric is the average value of previous steps.\n",
      "Epoch 1/10\n",
      "step  40/938 [>.............................] - loss: 11.7883 - acc: 0.2969 - ETA: 12s - 14ms/st"
     ]
    },
    {
     "name": "stderr",
     "output_type": "stream",
     "text": [
      "/opt/conda/envs/python35-paddle120-env/lib/python3.7/site-packages/paddle/fluid/layers/utils.py:77: DeprecationWarning: Using or importing the ABCs from 'collections' instead of from 'collections.abc' is deprecated, and in 3.8 it will stop working\n",
      "  return (isinstance(seq, collections.Sequence) and\n"
     ]
    },
    {
     "name": "stdout",
     "output_type": "stream",
     "text": [
      "step  90/938 [=>............................] - loss: 2.9223 - acc: 0.4613 - ETA: 7s - 9ms/stepstep 938/938 [==============================] - loss: 0.1076 - acc: 0.8248 - 4ms/step        \n",
      "save checkpoint at /home/aistudio/my_mnist_model/0\n",
      "Epoch 2/10\n",
      "step 938/938 [==============================] - loss: 0.2668 - acc: 0.9363 - 4ms/step         \n",
      "save checkpoint at /home/aistudio/my_mnist_model/1\n",
      "Epoch 3/10\n",
      "step 938/938 [==============================] - loss: 0.0033 - acc: 0.9567 - 4ms/step        \n",
      "save checkpoint at /home/aistudio/my_mnist_model/2\n",
      "Epoch 4/10\n",
      "step 938/938 [==============================] - loss: 0.0106 - acc: 0.9684 - 4ms/step         \n",
      "save checkpoint at /home/aistudio/my_mnist_model/3\n",
      "Epoch 5/10\n",
      "step 938/938 [==============================] - loss: 0.1063 - acc: 0.9733 - 4ms/step         \n",
      "save checkpoint at /home/aistudio/my_mnist_model/4\n",
      "Epoch 6/10\n",
      "step 938/938 [==============================] - loss: 0.3244 - acc: 0.9776 - 4ms/step         \n",
      "save checkpoint at /home/aistudio/my_mnist_model/5\n",
      "Epoch 7/10\n",
      "step 938/938 [==============================] - loss: 0.0597 - acc: 0.9798 - 4ms/step            \n",
      "save checkpoint at /home/aistudio/my_mnist_model/6\n",
      "Epoch 8/10\n",
      "step 938/938 [==============================] - loss: 0.0010 - acc: 0.9814 - 4ms/step         \n",
      "save checkpoint at /home/aistudio/my_mnist_model/7\n",
      "Epoch 9/10\n",
      "step 938/938 [==============================] - loss: 0.0153 - acc: 0.9822 - 4ms/step        \n",
      "save checkpoint at /home/aistudio/my_mnist_model/8\n",
      "Epoch 10/10\n",
      "step 938/938 [==============================] - loss: 0.0196 - acc: 0.9842 - 4ms/step         \n",
      "save checkpoint at /home/aistudio/my_mnist_model/9\n",
      "save checkpoint at /home/aistudio/my_mnist_model/final\n"
     ]
    }
   ],
   "source": [
    "# 模型训练\n",
    "model.fit(train_dataset,\n",
    "          epochs=epoch,\n",
    "          batch_size=batch_size,\n",
    "          save_dir='my_mnist_model',\n",
    "          verbose=1)"
   ]
  },
  {
   "cell_type": "markdown",
   "metadata": {},
   "source": [
    "## 测试模型\n",
    "\n",
    "如果可以可视化模型效果则加分"
   ]
  },
  {
   "cell_type": "code",
   "execution_count": 9,
   "metadata": {},
   "outputs": [
    {
     "name": "stdout",
     "output_type": "stream",
     "text": [
      "Predict begin...\n",
      "step 10000/10000 [==============================] - 1ms/step        \n",
      "Predict samples: 10000\n",
      "测试集第1个样本标签为:  7 \t 预测值为： 7\n",
      "测试集第2个样本标签为:  2 \t 预测值为： 2\n",
      "测试集第3个样本标签为:  1 \t 预测值为： 1\n",
      "测试集第4个样本标签为:  0 \t 预测值为： 0\n",
      "测试集第5个样本标签为:  4 \t 预测值为： 4\n",
      "模型在测试集上准确率为：97.91%\n"
     ]
    },
    {
     "data": {
      "image/png": "[encoded data removed]",
      "text/plain": [
       "<Figure size 720x144 with 5 Axes>"
      ]
     },
     "metadata": {},
     "output_type": "display_data"
    }
   ],
   "source": [
    "# 测试模型\n",
    "\n",
    "import numpy as np\n",
    "import matplotlib.pyplot as plt\n",
    "from sklearn.metrics import accuracy_score\n",
    "\n",
    "preds = model.predict(test_dataset)[0]\n",
    "preds = list(str(np.argmax(pred)) for pred in preds)\n",
    "test_labels = list(str(data[1][0]) for data in test_dataset)\n",
    "\n",
    "plt.figure(figsize=(10,2))\n",
    "for i in range(5):\n",
    "    print(f'测试集第{i + 1}个样本标签为: ', test_labels[i], '\\t', '预测值为：', preds[i])\n",
    "    plt.subplot(1, 5, i + 1)\n",
    "    plt.imshow(test_dataset[i][0].reshape([28,28]))\n",
    "\n",
    "acc_score = accuracy_score(test_labels, preds)\n",
    "print('模型在测试集上准确率为：%.2f%%' % (acc_score * 100))"
   ]
  }
 ],
 "metadata": {
  "kernelspec": {
   "display_name": "Python 3",
   "language": "python",
   "name": "python3"
  },
  "language_info": {
   "codemirror_mode": {
    "name": "ipython",
    "version": 3
   },
   "file_extension": ".py",
   "mimetype": "text/x-python",
   "name": "python",
   "nbconvert_exporter": "python",
   "pygments_lexer": "ipython3",
   "version": "3.9.5"
  }
 },
 "nbformat": 4,
 "nbformat_minor": 1
}
