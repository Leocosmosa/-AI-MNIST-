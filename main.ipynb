{
 "cells": [
  {
   "cell_type": "markdown",
   "metadata": {
    "collapsed": false
   },
   "source": [
    "# 一、项目介绍\n",
    "\n",
    "## 1. 项目背景/意义：\n",
    "MNIST是一个手写体数字的图片数据集，该数据集来由美国国家标准与技术研究所（National Institute of Standards and Technology (NIST)）发起整理，一共统计了来自250个不同的人手写数字图片，其中50%是高中生，50%来自人口普查局的工作人员。   \n",
    "该数据集的收集目的是希望通过算法，实现对手写数字的识别。\n",
    "\n",
    "## 2. 项目拟使用的方法：\n",
    "使用经典Lenet模型学习深度学习框架搭建，了解卷积层、激活层、池化层、全连接层的用法和意义，主要采用paddle.nn库完成模型。\n",
    "\n",
    "## 3. 项目数据集\n",
    "选择（[经典MNIST数据集](https://aistudio.baidu.com/aistudio/datasetdetail/65)）数据集，数据集地址：https://aistudio.baidu.com/aistudio/datasetdetail/65"
   ]
  },
  {
   "cell_type": "markdown",
   "metadata": {
    "collapsed": false
   },
   "source": [
    "# 二、数据处理\n",
    "\n",
    "## 1. 数据集清洗与介绍：\n",
    "挂载MNIST数据集，gzip解压数据集，tree/ls命令查看目录结构"
   ]
  },
  {
   "cell_type": "code",
   "execution_count": 1,
   "metadata": {
    "collapsed": false
   },
   "outputs": [
    {
     "name": "stdout",
     "output_type": "stream",
     "text": [
      "gzip: data/data65/t10k-labels-idx1-ubyte.gz: No such file or directory\n",
      "gzip: data/data65/train-labels-idx1-ubyte.gz: No such file or directory\n",
      "gzip: data/data65/t10k-images-idx3-ubyte.gz: No such file or directory\n",
      "gzip: data/data65/train-images-idx3-ubyte.gz: No such file or directory\n",
      "data/data65\n",
      "\n",
      "0 directories\n",
      "t10k-images-idx3-ubyte\ttrain-images-idx3-ubyte\n",
      "t10k-labels-idx1-ubyte\ttrain-labels-idx1-ubyte\n"
     ]
    }
   ],
   "source": [
    "# 使用gzip命令解压数据集文件\r\n",
    "!gzip -dfq data/data65/t10k-labels-idx1-ubyte.gz\r\n",
    "!gzip -dfq data/data65/train-labels-idx1-ubyte.gz\r\n",
    "!gzip -dfq data/data65/t10k-images-idx3-ubyte.gz\r\n",
    "!gzip -dfq data/data65/train-images-idx3-ubyte.gz\r\n",
    "\r\n",
    "# 使用tree/ls命令查看目录结构\r\n",
    "!tree data/data65 -d\r\n",
    "!ls data/data65"
   ]
  },
  {
   "cell_type": "markdown",
   "metadata": {
    "collapsed": false
   },
   "source": [
    "## 2. 数据集类的定义：\n",
    "自定义MyMNISTDataset类继承paddle.io.Dataset，并实现\\_\\_init\\_\\_, \\_\\_getitem\\_\\_，\\_\\_len\\_\\_方法，decode_idx3_ubyte和decode_idx1_ubyte方法分别完成图片和标签文件的解码，并返回numpy格式的图片数据和标签数据"
   ]
  },
  {
   "cell_type": "code",
   "execution_count": 2,
   "metadata": {
    "collapsed": false
   },
   "outputs": [],
   "source": [
    "# 定义数据集类\r\n",
    "import paddle\r\n",
    "import numpy as np\r\n",
    "import struct\r\n",
    "\r\n",
    "class MyMNISTDataset(paddle.io.Dataset):\r\n",
    "    def __init__(self, image_file, label_file):\r\n",
    "        super(MyMNISTDataset, self).__init__()\r\n",
    "        self.images = self.decode_idx3_ubyte(image_file)\r\n",
    "        self.labels = self.decode_idx1_ubyte(label_file)\r\n",
    "        self.length = len(self.labels)\r\n",
    "\r\n",
    "    def __getitem__(self, index):\r\n",
    "        return self.images[index].astype('float32'), self.labels[index].astype('int64')\r\n",
    "\r\n",
    "    def __len__(self):\r\n",
    "        return self.length\r\n",
    "\r\n",
    "    def decode_idx3_ubyte(self, idx3_ubyte_file):\r\n",
    "        bin_data = open(idx3_ubyte_file, 'rb').read()\r\n",
    "        offset = 0\r\n",
    "        fmt_header = '>iiii'\r\n",
    "        magic_number, num_images, num_rows, num_cols = struct.unpack_from(fmt_header, bin_data, offset)\r\n",
    "        image_size = num_rows * num_cols\r\n",
    "        offset += struct.calcsize(fmt_header)\r\n",
    "        fmt_image = '>' + str(image_size) + 'B'\r\n",
    "        images = np.empty((num_images, num_rows, num_cols), dtype=np.uint8)\r\n",
    "        for i in range(num_images):\r\n",
    "            images[i] = np.array(struct.unpack_from(fmt_image, bin_data, offset)).reshape((num_rows, num_cols))\r\n",
    "            offset += struct.calcsize(fmt_image)\r\n",
    "        images = np.expand_dims(images, axis=1)\r\n",
    "        return images\r\n",
    "\r\n",
    "    def decode_idx1_ubyte(self,idx1_ubyte_file):\r\n",
    "        bin_data = open(idx1_ubyte_file, 'rb').read()\r\n",
    "        offset = 0\r\n",
    "        fmt_header = '>ii'\r\n",
    "        magic_number, num_labels = struct.unpack_from(fmt_header, bin_data, offset)\r\n",
    "        offset += struct.calcsize(fmt_header)\r\n",
    "        fmt_label = '>B'\r\n",
    "        labels = np.empty(num_labels, dtype=np.uint8)\r\n",
    "        for i in range(num_labels):\r\n",
    "            labels[i] = struct.unpack_from(fmt_label, bin_data, offset)[0]\r\n",
    "            offset += struct.calcsize(fmt_label)\r\n",
    "        labels = np.expand_dims(labels, axis=-1)\r\n",
    "        return labels"
   ]
  },
  {
   "cell_type": "markdown",
   "metadata": {
    "collapsed": false
   },
   "source": [
    "## 3. 数据集类的测试：\n",
    "通过MyMNISTDataset类构造训练集和测试集，分别获得样本数据和标签数据，测试get、len方法，并用dataloader封装后测试batch效果"
   ]
  },
  {
   "cell_type": "code",
   "execution_count": 3,
   "metadata": {
    "collapsed": false
   },
   "outputs": [
    {
     "name": "stdout",
     "output_type": "stream",
     "text": [
      "训练集batch数据: 0 [1024, 1, 28, 28] [1024, 1]\n",
      "训练集batch数据: 1 [1024, 1, 28, 28] [1024, 1]\n",
      "训练集batch数据: 2 [1024, 1, 28, 28] [1024, 1]\n",
      "训练集batch数据: 3 [1024, 1, 28, 28] [1024, 1]\n",
      "训练集batch数据: 4 [1024, 1, 28, 28] [1024, 1]\n",
      "训练集batch数据: 5 [1024, 1, 28, 28] [1024, 1]\n",
      "训练集batch数据: 6 [1024, 1, 28, 28] [1024, 1]\n",
      "训练集batch数据: 7 [1024, 1, 28, 28] [1024, 1]\n",
      "训练集batch数据: 8 [1024, 1, 28, 28] [1024, 1]\n",
      "训练集batch数据: 9 [1024, 1, 28, 28] [1024, 1]\n",
      "训练集batch数据: 10 [1024, 1, 28, 28] [1024, 1]\n",
      "训练集batch数据: 11 [1024, 1, 28, 28] [1024, 1]\n",
      "训练集batch数据: 12 [1024, 1, 28, 28] [1024, 1]\n",
      "训练集batch数据: 13 [1024, 1, 28, 28] [1024, 1]\n",
      "训练集batch数据: 14 [1024, 1, 28, 28] [1024, 1]\n",
      "训练集batch数据: 15 [1024, 1, 28, 28] [1024, 1]\n",
      "训练集batch数据: 16 [1024, 1, 28, 28] [1024, 1]\n",
      "训练集batch数据: 17 [1024, 1, 28, 28] [1024, 1]\n",
      "训练集batch数据: 18 [1024, 1, 28, 28] [1024, 1]\n",
      "训练集batch数据: 19 [1024, 1, 28, 28] [1024, 1]\n",
      "训练集batch数据: 20 [1024, 1, 28, 28] [1024, 1]\n",
      "训练集batch数据: 21 [1024, 1, 28, 28] [1024, 1]\n",
      "训练集batch数据: 22 [1024, 1, 28, 28] [1024, 1]\n",
      "训练集batch数据: 23 [1024, 1, 28, 28] [1024, 1]\n",
      "训练集batch数据: 24 [1024, 1, 28, 28] [1024, 1]\n",
      "训练集batch数据: 25 [1024, 1, 28, 28] [1024, 1]\n",
      "训练集batch数据: 26 [1024, 1, 28, 28] [1024, 1]\n",
      "训练集batch数据: 27 [1024, 1, 28, 28] [1024, 1]\n",
      "训练集batch数据: 28 [1024, 1, 28, 28] [1024, 1]\n",
      "训练集batch数据: 29 [1024, 1, 28, 28] [1024, 1]\n",
      "训练集batch数据: 30 [1024, 1, 28, 28] [1024, 1]\n",
      "训练集batch数据: 31 [1024, 1, 28, 28] [1024, 1]\n",
      "训练集batch数据: 32 [1024, 1, 28, 28] [1024, 1]\n",
      "训练集batch数据: 33 [1024, 1, 28, 28] [1024, 1]\n",
      "训练集batch数据: 34 [1024, 1, 28, 28] [1024, 1]\n",
      "训练集batch数据: 35 [1024, 1, 28, 28] [1024, 1]\n",
      "训练集batch数据: 36 [1024, 1, 28, 28] [1024, 1]\n",
      "训练集batch数据: 37 [1024, 1, 28, 28] [1024, 1]\n",
      "训练集batch数据: 38 [1024, 1, 28, 28] [1024, 1]\n",
      "训练集batch数据: 39 [1024, 1, 28, 28] [1024, 1]\n",
      "训练集batch数据: 40 [1024, 1, 28, 28] [1024, 1]\n",
      "训练集batch数据: 41 [1024, 1, 28, 28] [1024, 1]\n",
      "训练集batch数据: 42 [1024, 1, 28, 28] [1024, 1]\n",
      "训练集batch数据: 43 [1024, 1, 28, 28] [1024, 1]\n",
      "训练集batch数据: 44 [1024, 1, 28, 28] [1024, 1]\n",
      "训练集batch数据: 45 [1024, 1, 28, 28] [1024, 1]\n",
      "训练集batch数据: 46 [1024, 1, 28, 28] [1024, 1]\n",
      "训练集batch数据: 47 [1024, 1, 28, 28] [1024, 1]\n",
      "训练集batch数据: 48 [1024, 1, 28, 28] [1024, 1]\n",
      "训练集batch数据: 49 [1024, 1, 28, 28] [1024, 1]\n",
      "训练集batch数据: 50 [1024, 1, 28, 28] [1024, 1]\n",
      "训练集batch数据: 51 [1024, 1, 28, 28] [1024, 1]\n",
      "训练集batch数据: 52 [1024, 1, 28, 28] [1024, 1]\n",
      "训练集batch数据: 53 [1024, 1, 28, 28] [1024, 1]\n",
      "训练集batch数据: 54 [1024, 1, 28, 28] [1024, 1]\n",
      "训练集batch数据: 55 [1024, 1, 28, 28] [1024, 1]\n",
      "训练集batch数据: 56 [1024, 1, 28, 28] [1024, 1]\n",
      "训练集batch数据: 57 [1024, 1, 28, 28] [1024, 1]\n",
      "训练集batch数据: 58 [608, 1, 28, 28] [608, 1]\n",
      "测试集batch数据: 0 [1024, 1, 28, 28] [1024, 1]\n",
      "测试集batch数据: 1 [1024, 1, 28, 28] [1024, 1]\n",
      "测试集batch数据: 2 [1024, 1, 28, 28] [1024, 1]\n",
      "测试集batch数据: 3 [1024, 1, 28, 28] [1024, 1]\n",
      "测试集batch数据: 4 [1024, 1, 28, 28] [1024, 1]\n",
      "测试集batch数据: 5 [1024, 1, 28, 28] [1024, 1]\n",
      "测试集batch数据: 6 [1024, 1, 28, 28] [1024, 1]\n",
      "测试集batch数据: 7 [1024, 1, 28, 28] [1024, 1]\n",
      "测试集batch数据: 8 [1024, 1, 28, 28] [1024, 1]\n",
      "测试集batch数据: 9 [784, 1, 28, 28] [784, 1]\n"
     ]
    }
   ],
   "source": [
    "train_dataset = MyMNISTDataset(\"data/data65/train-images-idx3-ubyte\", \"data/data65/train-labels-idx1-ubyte\")\r\n",
    "test_dataset = MyMNISTDataset(\"data/data65/t10k-images-idx3-ubyte\", \"data/data65/t10k-labels-idx1-ubyte\")\r\n",
    "\r\n",
    "train_dataloader = paddle.io.DataLoader(\r\n",
    "    train_dataset,\r\n",
    "    batch_size=1024,\r\n",
    "    shuffle=True,\r\n",
    "    drop_last=False)\r\n",
    "for step, data in enumerate(train_dataloader):\r\n",
    "    image, label = data\r\n",
    "    print(\"训练集batch数据:\", step, image.shape, label.shape)\r\n",
    "test_dataloader = paddle.io.DataLoader(\r\n",
    "    test_dataset,\r\n",
    "    batch_size=1024,\r\n",
    "    shuffle=True,\r\n",
    "    drop_last=False)\r\n",
    "for step, data in enumerate(test_dataloader):\r\n",
    "    image, label = data\r\n",
    "    print(\"测试集batch数据:\", step, image.shape, label.shape)"
   ]
  },
  {
   "cell_type": "markdown",
   "metadata": {
    "collapsed": false
   },
   "source": [
    "## 4. 图像/文本数据的统计分析：\n",
    "对训练集和测试集的第1个样本进行可视化展示，对训练集和测试集的全量样本，分别进行图片数据整体均值和方差计算"
   ]
  },
  {
   "cell_type": "code",
   "execution_count": 9,
   "metadata": {
    "collapsed": false
   },
   "outputs": [
    {
     "name": "stdout",
     "output_type": "stream",
     "text": [
      "训练集样本大小： 60000\n",
      "训练集图片大小： (60000, 1, 28, 28)\n",
      "训练集标签大小： (60000, 1)\n",
      "训练集第1个样本：\n",
      "标签数据： [5]\n",
      "图片：\n"
     ]
    },
    {
     "data": {
      "image/png": "[encoded data removed]",
      "text/plain": [
       "<Figure size 144x144 with 1 Axes>"
      ]
     },
     "metadata": {},
     "output_type": "display_data"
    },
    {
     "name": "stdout",
     "output_type": "stream",
     "text": [
      "\n",
      "图片数据： [[[  0   0   0   0   0   0   0   0   0   0   0   0   0   0   0   0   0\n",
      "     0   0   0   0   0   0   0   0   0   0   0]\n",
      "  [  0   0   0   0   0   0   0   0   0   0   0   0   0   0   0   0   0\n",
      "     0   0   0   0   0   0   0   0   0   0   0]\n",
      "  [  0   0   0   0   0   0   0   0   0   0   0   0   0   0   0   0   0\n",
      "     0   0   0   0   0   0   0   0   0   0   0]\n",
      "  [  0   0   0   0   0   0   0   0   0   0   0   0   0   0   0   0   0\n",
      "     0   0   0   0   0   0   0   0   0   0   0]\n",
      "  [  0   0   0   0   0   0   0   0   0   0   0   0   0   0   0   0   0\n",
      "     0   0   0   0   0   0   0   0   0   0   0]\n",
      "  [  0   0   0   0   0   0   0   0   0   0   0   0   3  18  18  18 126\n",
      "   136 175  26 166 255 247 127   0   0   0   0]\n",
      "  [  0   0   0   0   0   0   0   0  30  36  94 154 170 253 253 253 253\n",
      "   253 225 172 253 242 195  64   0   0   0   0]\n",
      "  [  0   0   0   0   0   0   0  49 238 253 253 253 253 253 253 253 253\n",
      "   251  93  82  82  56  39   0   0   0   0   0]\n",
      "  [  0   0   0   0   0   0   0  18 219 253 253 253 253 253 198 182 247\n",
      "   241   0   0   0   0   0   0   0   0   0   0]\n",
      "  [  0   0   0   0   0   0   0   0  80 156 107 253 253 205  11   0  43\n",
      "   154   0   0   0   0   0   0   0   0   0   0]\n",
      "  [  0   0   0   0   0   0   0   0   0  14   1 154 253  90   0   0   0\n",
      "     0   0   0   0   0   0   0   0   0   0   0]\n",
      "  [  0   0   0   0   0   0   0   0   0   0   0 139 253 190   2   0   0\n",
      "     0   0   0   0   0   0   0   0   0   0   0]\n",
      "  [  0   0   0   0   0   0   0   0   0   0   0  11 190 253  70   0   0\n",
      "     0   0   0   0   0   0   0   0   0   0   0]\n",
      "  [  0   0   0   0   0   0   0   0   0   0   0   0  35 241 225 160 108\n",
      "     1   0   0   0   0   0   0   0   0   0   0]\n",
      "  [  0   0   0   0   0   0   0   0   0   0   0   0   0  81 240 253 253\n",
      "   119  25   0   0   0   0   0   0   0   0   0]\n",
      "  [  0   0   0   0   0   0   0   0   0   0   0   0   0   0  45 186 253\n",
      "   253 150  27   0   0   0   0   0   0   0   0]\n",
      "  [  0   0   0   0   0   0   0   0   0   0   0   0   0   0   0  16  93\n",
      "   252 253 187   0   0   0   0   0   0   0   0]\n",
      "  [  0   0   0   0   0   0   0   0   0   0   0   0   0   0   0   0   0\n",
      "   249 253 249  64   0   0   0   0   0   0   0]\n",
      "  [  0   0   0   0   0   0   0   0   0   0   0   0   0   0  46 130 183\n",
      "   253 253 207   2   0   0   0   0   0   0   0]\n",
      "  [  0   0   0   0   0   0   0   0   0   0   0   0  39 148 229 253 253\n",
      "   253 250 182   0   0   0   0   0   0   0   0]\n",
      "  [  0   0   0   0   0   0   0   0   0   0  24 114 221 253 253 253 253\n",
      "   201  78   0   0   0   0   0   0   0   0   0]\n",
      "  [  0   0   0   0   0   0   0   0  23  66 213 253 253 253 253 198  81\n",
      "     2   0   0   0   0   0   0   0   0   0   0]\n",
      "  [  0   0   0   0   0   0  18 171 219 253 253 253 253 195  80   9   0\n",
      "     0   0   0   0   0   0   0   0   0   0   0]\n",
      "  [  0   0   0   0  55 172 226 253 253 253 253 244 133  11   0   0   0\n",
      "     0   0   0   0   0   0   0   0   0   0   0]\n",
      "  [  0   0   0   0 136 253 253 253 212 135 132  16   0   0   0   0   0\n",
      "     0   0   0   0   0   0   0   0   0   0   0]\n",
      "  [  0   0   0   0   0   0   0   0   0   0   0   0   0   0   0   0   0\n",
      "     0   0   0   0   0   0   0   0   0   0   0]\n",
      "  [  0   0   0   0   0   0   0   0   0   0   0   0   0   0   0   0   0\n",
      "     0   0   0   0   0   0   0   0   0   0   0]\n",
      "  [  0   0   0   0   0   0   0   0   0   0   0   0   0   0   0   0   0\n",
      "     0   0   0   0   0   0   0   0   0   0   0]]]\n",
      "测试集样本大小： 10000\n",
      "测试集图片大小： (10000, 1, 28, 28)\n",
      "测试集标签大小： (10000, 1)\n",
      "测试集第1个样本：\n",
      "标签数据： [7]\n",
      "图片：\n"
     ]
    },
    {
     "data": {
      "image/png": "[encoded data removed]",
      "text/plain": [
       "<Figure size 144x144 with 1 Axes>"
      ]
     },
     "metadata": {},
     "output_type": "display_data"
    },
    {
     "name": "stdout",
     "output_type": "stream",
     "text": [
      "\n",
      "图片数据： [[[  0   0   0   0   0   0   0   0   0   0   0   0   0   0   0   0   0\n",
      "     0   0   0   0   0   0   0   0   0   0   0]\n",
      "  [  0   0   0   0   0   0   0   0   0   0   0   0   0   0   0   0   0\n",
      "     0   0   0   0   0   0   0   0   0   0   0]\n",
      "  [  0   0   0   0   0   0   0   0   0   0   0   0   0   0   0   0   0\n",
      "     0   0   0   0   0   0   0   0   0   0   0]\n",
      "  [  0   0   0   0   0   0   0   0   0   0   0   0   0   0   0   0   0\n",
      "     0   0   0   0   0   0   0   0   0   0   0]\n",
      "  [  0   0   0   0   0   0   0   0   0   0   0   0   0   0   0   0   0\n",
      "     0   0   0   0   0   0   0   0   0   0   0]\n",
      "  [  0   0   0   0   0   0   0   0   0   0   0   0   0   0   0   0   0\n",
      "     0   0   0   0   0   0   0   0   0   0   0]\n",
      "  [  0   0   0   0   0   0   0   0   0   0   0   0   0   0   0   0   0\n",
      "     0   0   0   0   0   0   0   0   0   0   0]\n",
      "  [  0   0   0   0   0   0  84 185 159 151  60  36   0   0   0   0   0\n",
      "     0   0   0   0   0   0   0   0   0   0   0]\n",
      "  [  0   0   0   0   0   0 222 254 254 254 254 241 198 198 198 198 198\n",
      "   198 198 198 170  52   0   0   0   0   0   0]\n",
      "  [  0   0   0   0   0   0  67 114  72 114 163 227 254 225 254 254 254\n",
      "   250 229 254 254 140   0   0   0   0   0   0]\n",
      "  [  0   0   0   0   0   0   0   0   0   0   0  17  66  14  67  67  67\n",
      "    59  21 236 254 106   0   0   0   0   0   0]\n",
      "  [  0   0   0   0   0   0   0   0   0   0   0   0   0   0   0   0   0\n",
      "     0  83 253 209  18   0   0   0   0   0   0]\n",
      "  [  0   0   0   0   0   0   0   0   0   0   0   0   0   0   0   0   0\n",
      "    22 233 255  83   0   0   0   0   0   0   0]\n",
      "  [  0   0   0   0   0   0   0   0   0   0   0   0   0   0   0   0   0\n",
      "   129 254 238  44   0   0   0   0   0   0   0]\n",
      "  [  0   0   0   0   0   0   0   0   0   0   0   0   0   0   0   0  59\n",
      "   249 254  62   0   0   0   0   0   0   0   0]\n",
      "  [  0   0   0   0   0   0   0   0   0   0   0   0   0   0   0   0 133\n",
      "   254 187   5   0   0   0   0   0   0   0   0]\n",
      "  [  0   0   0   0   0   0   0   0   0   0   0   0   0   0   0   9 205\n",
      "   248  58   0   0   0   0   0   0   0   0   0]\n",
      "  [  0   0   0   0   0   0   0   0   0   0   0   0   0   0   0 126 254\n",
      "   182   0   0   0   0   0   0   0   0   0   0]\n",
      "  [  0   0   0   0   0   0   0   0   0   0   0   0   0   0  75 251 240\n",
      "    57   0   0   0   0   0   0   0   0   0   0]\n",
      "  [  0   0   0   0   0   0   0   0   0   0   0   0   0  19 221 254 166\n",
      "     0   0   0   0   0   0   0   0   0   0   0]\n",
      "  [  0   0   0   0   0   0   0   0   0   0   0   0   3 203 254 219  35\n",
      "     0   0   0   0   0   0   0   0   0   0   0]\n",
      "  [  0   0   0   0   0   0   0   0   0   0   0   0  38 254 254  77   0\n",
      "     0   0   0   0   0   0   0   0   0   0   0]\n",
      "  [  0   0   0   0   0   0   0   0   0   0   0  31 224 254 115   1   0\n",
      "     0   0   0   0   0   0   0   0   0   0   0]\n",
      "  [  0   0   0   0   0   0   0   0   0   0   0 133 254 254  52   0   0\n",
      "     0   0   0   0   0   0   0   0   0   0   0]\n",
      "  [  0   0   0   0   0   0   0   0   0   0  61 242 254 254  52   0   0\n",
      "     0   0   0   0   0   0   0   0   0   0   0]\n",
      "  [  0   0   0   0   0   0   0   0   0   0 121 254 254 219  40   0   0\n",
      "     0   0   0   0   0   0   0   0   0   0   0]\n",
      "  [  0   0   0   0   0   0   0   0   0   0 121 254 207  18   0   0   0\n",
      "     0   0   0   0   0   0   0   0   0   0   0]\n",
      "  [  0   0   0   0   0   0   0   0   0   0   0   0   0   0   0   0   0\n",
      "     0   0   0   0   0   0   0   0   0   0   0]]]\n"
     ]
    }
   ],
   "source": [
    "from matplotlib import pyplot as plt\r\n",
    "import warnings\r\n",
    "\r\n",
    "warnings.filterwarnings(\"ignore\")\r\n",
    "print(\"训练集样本大小：\", len(train_dataset))\r\n",
    "print(\"训练集图片大小：\", train_dataset.images.shape)\r\n",
    "print(\"训练集标签大小：\", train_dataset.labels.shape)\r\n",
    "print(\"训练集第1个样本：\\n标签数据：\", train_dataset.labels[0])\r\n",
    "print(\"图片：\")\r\n",
    "plt.figure(figsize=(2,2))\r\n",
    "plt.imshow(train_dataset.images[0].reshape([28,28]))\r\n",
    "plt.pause(1)\r\n",
    "print(\"\\n图片数据：\", train_dataset.images[0])\r\n",
    "print(\"测试集样本大小：\", len(test_dataset))\r\n",
    "print(\"测试集图片大小：\", test_dataset.images.shape)\r\n",
    "print(\"测试集标签大小：\", test_dataset.labels.shape)\r\n",
    "print(\"测试集第1个样本：\\n标签数据：\", test_dataset.labels[0])\r\n",
    "print(\"图片：\")\r\n",
    "plt.figure(figsize=(2,2))\r\n",
    "plt.imshow(test_dataset.images[0].reshape([28,28]))\r\n",
    "plt.pause(1)\r\n",
    "print(\"\\n图片数据：\", test_dataset.images[0])"
   ]
  },
  {
   "cell_type": "markdown",
   "metadata": {
    "collapsed": false
   },
   "source": [
    "# 三、选择模型\n",
    "\n",
    "手写字体识别模型LeNet5诞生于1994年，是最早的卷积神经网络之一。LeNet5通过巧妙的设计，利用卷积、参数共享、池化等操作提取特征，避免了大量的计算成本，最后再使用全连接神经网络进行分类识别，这个网络也是最近大量神经网络架构的起点。"
   ]
  },
  {
   "cell_type": "code",
   "execution_count": 5,
   "metadata": {
    "collapsed": false
   },
   "outputs": [],
   "source": [
    "# 搭建Lenet5模型\r\n",
    "import paddle.nn as nn\r\n",
    "import paddle.nn.functional as F\r\n",
    "\r\n",
    "class Lenet(nn.Layer):\r\n",
    "    def __init__(self):\r\n",
    "        super(Lenet, self).__init__()\r\n",
    "        self.conv1 = nn.Conv2D(1, 6, 5)\r\n",
    "        self.pool1 = nn.MaxPool2D(2, 2)\r\n",
    "        self.conv2 = nn.Conv2D(6, 16, 5)\r\n",
    "        self.pool2 = nn.MaxPool2D(2, 2)\r\n",
    "        self.fc1 = nn.Linear(16 * 4 * 4, 120)\r\n",
    "        self.fc2 = nn.Linear(120, 84)\r\n",
    "        self.fc3 = nn.Linear(84, 10)\r\n",
    "\r\n",
    "    def forward(self, x):\r\n",
    "        x = F.relu(self.conv1(x))\r\n",
    "        x = self.pool1(x)\r\n",
    "        x = F.relu(self.conv2(x))\r\n",
    "        x = self.pool2(x)\r\n",
    "        x = paddle.flatten(x, start_axis=1, stop_axis=-1)\r\n",
    "        x = F.relu(self.fc1(x))\r\n",
    "        x = F.relu(self.fc2(x))\r\n",
    "        x = self.fc3(x) # 原LeNet采用径向基函数（RBF）的网络连接方式，参数需根据先验知识固定，这里简化为线性层连接\r\n",
    "        return x"
   ]
  },
  {
   "cell_type": "markdown",
   "metadata": {
    "collapsed": false
   },
   "source": [
    "# 四、模型训练\n",
    "\n",
    "首先定义lr，optimize，epoch，batch_size，Loss function等模型参数，使用model.prepare和model.fit进行模型训练\n",
    "\n"
   ]
  },
  {
   "cell_type": "code",
   "execution_count": 6,
   "metadata": {
    "collapsed": false
   },
   "outputs": [],
   "source": [
    "# 定义模型参数\r\n",
    "from paddle.optimizer import Adam\r\n",
    "\r\n",
    "lr = 0.001\r\n",
    "\r\n",
    "model = paddle.Model(Lenet())\r\n",
    "opt = Adam(learning_rate=lr, parameters=model.parameters())\r\n",
    "\r\n",
    "epoch = 10\r\n",
    "\r\n",
    "batch_size = 64\r\n",
    "\r\n",
    "loss = nn.CrossEntropyLoss()\r\n",
    "\r\n",
    "model.prepare(\r\n",
    "    optimizer=opt,\r\n",
    "    loss=loss,\r\n",
    "    metrics=paddle.metric.Accuracy())"
   ]
  },
  {
   "cell_type": "code",
   "execution_count": 7,
   "metadata": {
    "collapsed": false
   },
   "outputs": [
    {
     "name": "stdout",
     "output_type": "stream",
     "text": [
      "The loss value printed in the log is the current step, and the metric is the average value of previous steps.\n",
      "Epoch 1/10\n",
      "step 938/938 [==============================] - loss: 0.5796 - acc: 0.8579 - 14ms/step         \n",
      "save checkpoint at /home/aistudio/my_mnist_model/0\n",
      "Epoch 2/10\n",
      "step 938/938 [==============================] - loss: 0.3490 - acc: 0.9361 - 14ms/step        \n",
      "save checkpoint at /home/aistudio/my_mnist_model/1\n",
      "Epoch 3/10\n",
      "step 938/938 [==============================] - loss: 0.0019 - acc: 0.9536 - 13ms/step         \n",
      "save checkpoint at /home/aistudio/my_mnist_model/2\n",
      "Epoch 4/10\n",
      "step 938/938 [==============================] - loss: 0.1446 - acc: 0.9634 - 14ms/step        \n",
      "save checkpoint at /home/aistudio/my_mnist_model/3\n",
      "Epoch 5/10\n",
      "step 938/938 [==============================] - loss: 0.2844 - acc: 0.9697 - 14ms/step        \n",
      "save checkpoint at /home/aistudio/my_mnist_model/4\n",
      "Epoch 6/10\n",
      "step 938/938 [==============================] - loss: 0.0212 - acc: 0.9741 - 14ms/step         \n",
      "save checkpoint at /home/aistudio/my_mnist_model/5\n",
      "Epoch 7/10\n",
      "step 938/938 [==============================] - loss: 0.0448 - acc: 0.9759 - 14ms/step         \n",
      "save checkpoint at /home/aistudio/my_mnist_model/6\n",
      "Epoch 8/10\n",
      "step 938/938 [==============================] - loss: 0.0314 - acc: 0.9798 - 14ms/step         \n",
      "save checkpoint at /home/aistudio/my_mnist_model/7\n",
      "Epoch 9/10\n",
      "step 938/938 [==============================] - loss: 6.7148e-05 - acc: 0.9818 - 13ms/step     \n",
      "save checkpoint at /home/aistudio/my_mnist_model/8\n",
      "Epoch 10/10\n",
      "step 938/938 [==============================] - loss: 0.0011 - acc: 0.9838 - 13ms/step        \n",
      "save checkpoint at /home/aistudio/my_mnist_model/9\n",
      "save checkpoint at /home/aistudio/my_mnist_model/final\n"
     ]
    }
   ],
   "source": [
    "# 模型训练\r\n",
    "model.fit(train_dataset,\r\n",
    "          epochs=epoch,\r\n",
    "          batch_size=batch_size,\r\n",
    "          save_dir='my_mnist_model',\r\n",
    "          verbose=1)"
   ]
  },
  {
   "cell_type": "markdown",
   "metadata": {
    "collapsed": false
   },
   "source": [
    "# 五、模型测试\n",
    "\n",
    "使用上一步骤训练完成的LeNet5模型，对测试集数据进行预测，并使用acc_score进行准确性评分。"
   ]
  },
  {
   "cell_type": "code",
   "execution_count": 10,
   "metadata": {
    "collapsed": false
   },
   "outputs": [
    {
     "name": "stdout",
     "output_type": "stream",
     "text": [
      "Predict begin...\n",
      "step 10000/10000 [==============================] - 2ms/step        \n",
      "Predict samples: 10000\n",
      "测试集第1个样本标签为:  7 \t 预测值为： 7\n"
     ]
    },
    {
     "data": {
      "image/png": "[encoded data removed]",
      "text/plain": [
       "<Figure size 144x144 with 1 Axes>"
      ]
     },
     "metadata": {},
     "output_type": "display_data"
    },
    {
     "name": "stdout",
     "output_type": "stream",
     "text": [
      "测试集第2个样本标签为:  2 \t 预测值为： 2\n"
     ]
    },
    {
     "data": {
      "image/png": "[encoded data removed]",
      "text/plain": [
       "<Figure size 144x144 with 1 Axes>"
      ]
     },
     "metadata": {},
     "output_type": "display_data"
    },
    {
     "name": "stdout",
     "output_type": "stream",
     "text": [
      "测试集第3个样本标签为:  1 \t 预测值为： 1\n"
     ]
    },
    {
     "data": {
      "image/png": "[encoded data removed]",
      "text/plain": [
       "<Figure size 144x144 with 1 Axes>"
      ]
     },
     "metadata": {},
     "output_type": "display_data"
    },
    {
     "name": "stdout",
     "output_type": "stream",
     "text": [
      "测试集第4个样本标签为:  0 \t 预测值为： 0\n"
     ]
    },
    {
     "data": {
      "image/png": "[encoded data removed]",
      "text/plain": [
       "<Figure size 144x144 with 1 Axes>"
      ]
     },
     "metadata": {},
     "output_type": "display_data"
    },
    {
     "name": "stdout",
     "output_type": "stream",
     "text": [
      "测试集第5个样本标签为:  4 \t 预测值为： 4\n"
     ]
    },
    {
     "data": {
      "image/png": "[encoded data removed]",
      "text/plain": [
       "<Figure size 144x144 with 1 Axes>"
      ]
     },
     "metadata": {},
     "output_type": "display_data"
    },
    {
     "name": "stdout",
     "output_type": "stream",
     "text": [
      "模型在测试集上准确率为：97.85%\n"
     ]
    }
   ],
   "source": [
    "# 测试模型\r\n",
    "\r\n",
    "import numpy as np\r\n",
    "from sklearn.metrics import accuracy_score\r\n",
    "\r\n",
    "preds = model.predict(test_dataset)[0]\r\n",
    "preds = list(str(np.argmax(pred)) for pred in preds)\r\n",
    "test_labels = list(str(data[1][0]) for data in test_dataset)\r\n",
    "\r\n",
    "for i in range(5):\r\n",
    "    print(f'测试集第{i + 1}个样本标签为: ', test_labels[i], '\\t', '预测值为：', preds[i])\r\n",
    "    plt.figure(figsize=(2,2))\r\n",
    "    plt.imshow(test_dataset[i][0].reshape([28,28]))\r\n",
    "    plt.pause(1)\r\n",
    "\r\n",
    "acc_score = accuracy_score(test_labels, preds)\r\n",
    "print('模型在测试集上准确率为：%.2f%%' % (acc_score * 100))"
   ]
  },
  {
   "cell_type": "markdown",
   "metadata": {
    "collapsed": false
   },
   "source": [
    "# 六、个人总结\n",
    "\n",
    "零基础入门MNIST手写数字识别，非常适合作为CV领域的入门项目。搭积木的过程比结果更重要，实践才是将知识转化为技能的重要途径。\n",
    "\n",
    "aistudio链接：https://aistudio.baidu.com/aistudio/projectdetail/3529271\n",
    "\n",
    "github链接：https://github.com/Leocosmosa/-AI-MNIST-\n",
    "\n",
    "gitee链接：https://gitee.com/Leocosmosa/AI-MNIST"
   ]
  }
 ],
 "metadata": {
  "kernelspec": {
   "display_name": "Python 3",
   "language": "python",
   "name": "py35-paddle1.2.0"
  },
  "language_info": {
   "codemirror_mode": {
    "name": "ipython",
    "version": 3
   },
   "file_extension": ".py",
   "mimetype": "text/x-python",
   "name": "python",
   "nbconvert_exporter": "python",
   "pygments_lexer": "ipython3",
   "version": "3.7.4"
  }
 },
 "nbformat": 4,
 "nbformat_minor": 1
}
